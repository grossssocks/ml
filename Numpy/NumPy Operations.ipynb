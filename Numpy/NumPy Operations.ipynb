{
 "cells": [
  {
   "cell_type": "markdown",
   "id": "408a21af",
   "metadata": {},
   "source": [
    "For more detailed Universal Numpy Fucntions visit: https://numpy.org/devdocs/reference/ufuncs.html"
   ]
  },
  {
   "cell_type": "code",
   "execution_count": 1,
   "id": "29c04492",
   "metadata": {},
   "outputs": [],
   "source": [
    "import numpy as np"
   ]
  },
  {
   "cell_type": "code",
   "execution_count": 2,
   "id": "df55cfec",
   "metadata": {},
   "outputs": [],
   "source": [
    "arr = np.arange(0,11)"
   ]
  },
  {
   "cell_type": "code",
   "execution_count": 3,
   "id": "82aae514",
   "metadata": {
    "scrolled": true
   },
   "outputs": [
    {
     "data": {
      "text/plain": [
       "array([ 0,  1,  2,  3,  4,  5,  6,  7,  8,  9, 10])"
      ]
     },
     "execution_count": 3,
     "metadata": {},
     "output_type": "execute_result"
    }
   ],
   "source": [
    "arr"
   ]
  },
  {
   "cell_type": "markdown",
   "id": "9882c615",
   "metadata": {},
   "source": [
    "# Basic Arithmetic Operations"
   ]
  },
  {
   "cell_type": "markdown",
   "id": "9bc9da45",
   "metadata": {},
   "source": [
    "Adding Arrays "
   ]
  },
  {
   "cell_type": "code",
   "execution_count": 4,
   "id": "5c6e27c3",
   "metadata": {},
   "outputs": [
    {
     "data": {
      "text/plain": [
       "array([ 0,  2,  4,  6,  8, 10, 12, 14, 16, 18, 20])"
      ]
     },
     "execution_count": 4,
     "metadata": {},
     "output_type": "execute_result"
    }
   ],
   "source": [
    "arr + arr # basically this is how we add two arrays together\n",
    "# here array is getting added by itself hence the output is:"
   ]
  },
  {
   "cell_type": "code",
   "execution_count": 6,
   "id": "cb931a22",
   "metadata": {},
   "outputs": [
    {
     "data": {
      "text/plain": [
       "array([100, 101, 102, 103, 104, 105, 106, 107, 108, 109, 110])"
      ]
     },
     "execution_count": 6,
     "metadata": {},
     "output_type": "execute_result"
    }
   ],
   "source": [
    "arr + 100 # this will add 100 to each element of the array and show the resulting array"
   ]
  },
  {
   "cell_type": "markdown",
   "id": "1b035aa0",
   "metadata": {},
   "source": [
    "same can be done with subtraction/multiplication/division etc."
   ]
  },
  {
   "cell_type": "code",
   "execution_count": 7,
   "id": "873579ef",
   "metadata": {},
   "outputs": [],
   "source": [
    "# 0/0  or anything divided by 0 gives ZeroDivisiononError'.\n",
    "# but in Numpy it will give a warning but we will get a resulting output:"
   ]
  },
  {
   "cell_type": "code",
   "execution_count": 8,
   "id": "81fc6e53",
   "metadata": {},
   "outputs": [
    {
     "name": "stderr",
     "output_type": "stream",
     "text": [
      "C:\\Users\\roysu\\AppData\\Local\\Temp\\ipykernel_25412\\3001117470.py:1: RuntimeWarning: invalid value encountered in true_divide\n",
      "  arr / arr\n"
     ]
    },
    {
     "data": {
      "text/plain": [
       "array([nan,  1.,  1.,  1.,  1.,  1.,  1.,  1.,  1.,  1.,  1.])"
      ]
     },
     "execution_count": 8,
     "metadata": {},
     "output_type": "execute_result"
    }
   ],
   "source": [
    "arr / arr # this is showing nan"
   ]
  },
  {
   "cell_type": "code",
   "execution_count": 10,
   "id": "7aebd208",
   "metadata": {},
   "outputs": [
    {
     "name": "stderr",
     "output_type": "stream",
     "text": [
      "C:\\Users\\roysu\\AppData\\Local\\Temp\\ipykernel_25412\\1528351372.py:1: RuntimeWarning: divide by zero encountered in true_divide\n",
      "  1 / arr\n"
     ]
    },
    {
     "data": {
      "text/plain": [
       "array([       inf, 1.        , 0.5       , 0.33333333, 0.25      ,\n",
       "       0.2       , 0.16666667, 0.14285714, 0.125     , 0.11111111,\n",
       "       0.1       ])"
      ]
     },
     "execution_count": 10,
     "metadata": {},
     "output_type": "execute_result"
    }
   ],
   "source": [
    "1 /  arr # this will show infinte for 0"
   ]
  },
  {
   "cell_type": "code",
   "execution_count": 13,
   "id": "cabef3f8",
   "metadata": {},
   "outputs": [
    {
     "data": {
      "text/plain": [
       "array([  0,   1,   4,   9,  16,  25,  36,  49,  64,  81, 100], dtype=int32)"
      ]
     },
     "execution_count": 13,
     "metadata": {},
     "output_type": "execute_result"
    }
   ],
   "source": [
    "arr ** 2"
   ]
  },
  {
   "cell_type": "markdown",
   "id": "4dbc8c24",
   "metadata": {},
   "source": [
    "To find the Square Root of every element in an array:"
   ]
  },
  {
   "cell_type": "code",
   "execution_count": 14,
   "id": "72ff7160",
   "metadata": {},
   "outputs": [
    {
     "data": {
      "text/plain": [
       "array([0.        , 1.        , 1.41421356, 1.73205081, 2.        ,\n",
       "       2.23606798, 2.44948974, 2.64575131, 2.82842712, 3.        ,\n",
       "       3.16227766])"
      ]
     },
     "execution_count": 14,
     "metadata": {},
     "output_type": "execute_result"
    }
   ],
   "source": [
    "np.sqrt(arr) "
   ]
  },
  {
   "cell_type": "markdown",
   "id": "53062e30",
   "metadata": {},
   "source": [
    "To find the Exponential of every element in an array:"
   ]
  },
  {
   "cell_type": "code",
   "execution_count": 15,
   "id": "a1aec6e7",
   "metadata": {},
   "outputs": [
    {
     "data": {
      "text/plain": [
       "array([1.00000000e+00, 2.71828183e+00, 7.38905610e+00, 2.00855369e+01,\n",
       "       5.45981500e+01, 1.48413159e+02, 4.03428793e+02, 1.09663316e+03,\n",
       "       2.98095799e+03, 8.10308393e+03, 2.20264658e+04])"
      ]
     },
     "execution_count": 15,
     "metadata": {},
     "output_type": "execute_result"
    }
   ],
   "source": [
    "np.exp(arr)"
   ]
  },
  {
   "cell_type": "markdown",
   "id": "a5aa45f5",
   "metadata": {},
   "source": [
    "To find the maximum element in an array:"
   ]
  },
  {
   "cell_type": "code",
   "execution_count": 16,
   "id": "390b6d13",
   "metadata": {},
   "outputs": [
    {
     "data": {
      "text/plain": [
       "10"
      ]
     },
     "execution_count": 16,
     "metadata": {},
     "output_type": "execute_result"
    }
   ],
   "source": [
    "np.max(arr)\n",
    "# or\n",
    "# arr.max()"
   ]
  },
  {
   "cell_type": "markdown",
   "id": "eb5707d6",
   "metadata": {},
   "source": [
    "To find the Trigonometric Functions like sin of every element in an array:"
   ]
  },
  {
   "cell_type": "code",
   "execution_count": 17,
   "id": "e49d925e",
   "metadata": {},
   "outputs": [
    {
     "data": {
      "text/plain": [
       "array([ 0.        ,  0.84147098,  0.90929743,  0.14112001, -0.7568025 ,\n",
       "       -0.95892427, -0.2794155 ,  0.6569866 ,  0.98935825,  0.41211849,\n",
       "       -0.54402111])"
      ]
     },
     "execution_count": 17,
     "metadata": {},
     "output_type": "execute_result"
    }
   ],
   "source": [
    "np.sin(arr)"
   ]
  },
  {
   "cell_type": "markdown",
   "id": "672b7ced",
   "metadata": {},
   "source": [
    "To find the Log of every element in an array:"
   ]
  },
  {
   "cell_type": "code",
   "execution_count": 18,
   "id": "91ba155a",
   "metadata": {},
   "outputs": [
    {
     "name": "stderr",
     "output_type": "stream",
     "text": [
      "C:\\Users\\roysu\\AppData\\Local\\Temp\\ipykernel_25412\\3120950136.py:1: RuntimeWarning: divide by zero encountered in log\n",
      "  np.log(arr)\n"
     ]
    },
    {
     "data": {
      "text/plain": [
       "array([      -inf, 0.        , 0.69314718, 1.09861229, 1.38629436,\n",
       "       1.60943791, 1.79175947, 1.94591015, 2.07944154, 2.19722458,\n",
       "       2.30258509])"
      ]
     },
     "execution_count": 18,
     "metadata": {},
     "output_type": "execute_result"
    }
   ],
   "source": [
    "np.log(arr) # this will give negative infinte for 0"
   ]
  },
  {
   "cell_type": "markdown",
   "id": "0fdd247d",
   "metadata": {},
   "source": [
    "To find the sum of every element in an array:"
   ]
  },
  {
   "cell_type": "code",
   "execution_count": 19,
   "id": "7670a79b",
   "metadata": {
    "scrolled": true
   },
   "outputs": [
    {
     "data": {
      "text/plain": [
       "55"
      ]
     },
     "execution_count": 19,
     "metadata": {},
     "output_type": "execute_result"
    }
   ],
   "source": [
    "np.sum(arr)"
   ]
  },
  {
   "cell_type": "markdown",
   "id": "b5ae955c",
   "metadata": {},
   "source": [
    "To find Sum of every element over row/column:"
   ]
  },
  {
   "cell_type": "code",
   "execution_count": 34,
   "id": "1ec7fc69",
   "metadata": {},
   "outputs": [
    {
     "data": {
      "text/plain": [
       "array([[ 0,  1,  2,  3,  4,  5,  6],\n",
       "       [ 7,  8,  9, 10, 11, 12, 13],\n",
       "       [14, 15, 16, 17, 18, 19, 20]])"
      ]
     },
     "execution_count": 34,
     "metadata": {},
     "output_type": "execute_result"
    }
   ],
   "source": [
    "mat = np.arange(0,21).reshape(3,7)\n",
    "mat"
   ]
  },
  {
   "cell_type": "code",
   "execution_count": 35,
   "id": "df39998b",
   "metadata": {},
   "outputs": [
    {
     "data": {
      "text/plain": [
       "array([21, 24, 27, 30, 33, 36, 39])"
      ]
     },
     "execution_count": 35,
     "metadata": {},
     "output_type": "execute_result"
    }
   ],
   "source": [
    "mat.sum(axis=0) # this will give the sum of elements over the column that is vertically sum of all the columns."
   ]
  },
  {
   "cell_type": "code",
   "execution_count": 36,
   "id": "3deda278",
   "metadata": {},
   "outputs": [
    {
     "data": {
      "text/plain": [
       "array([ 21,  70, 119])"
      ]
     },
     "execution_count": 36,
     "metadata": {},
     "output_type": "execute_result"
    }
   ],
   "source": [
    "mat.sum(axis=1) # this will give the sum of elements over the row that is horizontal sum of all the rows."
   ]
  },
  {
   "cell_type": "markdown",
   "id": "1ec85577",
   "metadata": {},
   "source": [
    "To find the standard deviation of every element in an array:"
   ]
  },
  {
   "cell_type": "code",
   "execution_count": 37,
   "id": "c44ce197",
   "metadata": {},
   "outputs": [
    {
     "data": {
      "text/plain": [
       "3.1622776601683795"
      ]
     },
     "execution_count": 37,
     "metadata": {},
     "output_type": "execute_result"
    }
   ],
   "source": [
    "np.std(arr)"
   ]
  }
 ],
 "metadata": {
  "kernelspec": {
   "display_name": "Python 3 (ipykernel)",
   "language": "python",
   "name": "python3"
  },
  "language_info": {
   "codemirror_mode": {
    "name": "ipython",
    "version": 3
   },
   "file_extension": ".py",
   "mimetype": "text/x-python",
   "name": "python",
   "nbconvert_exporter": "python",
   "pygments_lexer": "ipython3",
   "version": "3.9.13"
  }
 },
 "nbformat": 4,
 "nbformat_minor": 5
}
