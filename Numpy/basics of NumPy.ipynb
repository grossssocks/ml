{
 "cells": [
  {
   "cell_type": "markdown",
   "id": "e1b24216",
   "metadata": {},
   "source": [
    "Vector or 1D Array"
   ]
  },
  {
   "cell_type": "code",
   "execution_count": 152,
   "id": "523348b9",
   "metadata": {},
   "outputs": [],
   "source": [
    "list = [1, 2, 3]"
   ]
  },
  {
   "cell_type": "code",
   "execution_count": 153,
   "id": "4076c6f5",
   "metadata": {},
   "outputs": [
    {
     "data": {
      "text/plain": [
       "[1, 2, 3]"
      ]
     },
     "execution_count": 153,
     "metadata": {},
     "output_type": "execute_result"
    }
   ],
   "source": [
    "list"
   ]
  },
  {
   "cell_type": "code",
   "execution_count": 154,
   "id": "92514ae4",
   "metadata": {},
   "outputs": [],
   "source": [
    "import numpy as np"
   ]
  },
  {
   "cell_type": "code",
   "execution_count": 155,
   "id": "81e00ac2",
   "metadata": {},
   "outputs": [],
   "source": [
    "arr = np.array(list)"
   ]
  },
  {
   "cell_type": "code",
   "execution_count": 156,
   "id": "78298186",
   "metadata": {},
   "outputs": [
    {
     "data": {
      "text/plain": [
       "array([1, 2, 3])"
      ]
     },
     "execution_count": 156,
     "metadata": {},
     "output_type": "execute_result"
    }
   ],
   "source": [
    "arr"
   ]
  },
  {
   "cell_type": "markdown",
   "id": "bdd4816e",
   "metadata": {},
   "source": [
    "Matrix or 2D Array"
   ]
  },
  {
   "cell_type": "code",
   "execution_count": 157,
   "id": "92abaa14",
   "metadata": {},
   "outputs": [],
   "source": [
    "mat = [[1,2,3], [4,5,6],[7,8,9]]"
   ]
  },
  {
   "cell_type": "code",
   "execution_count": 158,
   "id": "98cbcbdc",
   "metadata": {},
   "outputs": [
    {
     "data": {
      "text/plain": [
       "array([[1, 2, 3],\n",
       "       [4, 5, 6],\n",
       "       [7, 8, 9]])"
      ]
     },
     "execution_count": 158,
     "metadata": {},
     "output_type": "execute_result"
    }
   ],
   "source": [
    "np.array(mat)"
   ]
  },
  {
   "cell_type": "markdown",
   "id": "f3de3c7d",
   "metadata": {},
   "source": [
    "np.arange()"
   ]
  },
  {
   "cell_type": "code",
   "execution_count": 159,
   "id": "3e99dbcc",
   "metadata": {},
   "outputs": [
    {
     "data": {
      "text/plain": [
       "array([0, 1, 2, 3, 4, 5, 6, 7, 8, 9])"
      ]
     },
     "execution_count": 159,
     "metadata": {},
     "output_type": "execute_result"
    }
   ],
   "source": [
    "np.arange(0,10)\n",
    "\n",
    "# arange is similar to range function which is built in in Python. \n",
    "# This will include all the numbers from 0 to before 10"
   ]
  },
  {
   "cell_type": "code",
   "execution_count": 160,
   "id": "dfcfc91b",
   "metadata": {},
   "outputs": [
    {
     "data": {
      "text/plain": [
       "array([ 0,  2,  4,  6,  8, 10])"
      ]
     },
     "execution_count": 160,
     "metadata": {},
     "output_type": "execute_result"
    }
   ],
   "source": [
    "np.arange(0, 11, 2) # the third parameter is the increment."
   ]
  },
  {
   "cell_type": "markdown",
   "id": "65c73cc6",
   "metadata": {},
   "source": [
    "np.zeros()"
   ]
  },
  {
   "cell_type": "code",
   "execution_count": 161,
   "id": "5a706c54",
   "metadata": {},
   "outputs": [
    {
     "data": {
      "text/plain": [
       "array([0., 0., 0.])"
      ]
     },
     "execution_count": 161,
     "metadata": {},
     "output_type": "execute_result"
    }
   ],
   "source": [
    "np.zeros(3) # generating arrays of zeroes"
   ]
  },
  {
   "cell_type": "code",
   "execution_count": 162,
   "id": "645b667c",
   "metadata": {},
   "outputs": [
    {
     "data": {
      "text/plain": [
       "array([[0., 0., 0., 0., 0.],\n",
       "       [0., 0., 0., 0., 0.],\n",
       "       [0., 0., 0., 0., 0.],\n",
       "       [0., 0., 0., 0., 0.],\n",
       "       [0., 0., 0., 0., 0.]])"
      ]
     },
     "execution_count": 162,
     "metadata": {},
     "output_type": "execute_result"
    }
   ],
   "source": [
    "np.zeros((5,5)) # this will create a 2D array of zeroes of tuple value 5 rows and 5 columns"
   ]
  },
  {
   "cell_type": "markdown",
   "id": "de4e2903",
   "metadata": {},
   "source": [
    "np.ones()"
   ]
  },
  {
   "cell_type": "code",
   "execution_count": 163,
   "id": "dbc874d6",
   "metadata": {},
   "outputs": [
    {
     "data": {
      "text/plain": [
       "array([1., 1., 1., 1.])"
      ]
     },
     "execution_count": 163,
     "metadata": {},
     "output_type": "execute_result"
    }
   ],
   "source": [
    "np.ones(4)  # generating arrays of ones"
   ]
  },
  {
   "cell_type": "code",
   "execution_count": 164,
   "id": "cdfd88e8",
   "metadata": {},
   "outputs": [
    {
     "data": {
      "text/plain": [
       "array([[1., 1., 1., 1.],\n",
       "       [1., 1., 1., 1.],\n",
       "       [1., 1., 1., 1.]])"
      ]
     },
     "execution_count": 164,
     "metadata": {},
     "output_type": "execute_result"
    }
   ],
   "source": [
    "np.ones((3,4)) # this will create a 2D array of ones of tuple value 3 rows and 4 columns"
   ]
  },
  {
   "cell_type": "markdown",
   "id": "9a29ee8a",
   "metadata": {},
   "source": [
    "np.linspace()"
   ]
  },
  {
   "cell_type": "code",
   "execution_count": 165,
   "id": "8367f5b8",
   "metadata": {},
   "outputs": [
    {
     "data": {
      "text/plain": [
       "array([0.        , 0.55555556, 1.11111111, 1.66666667, 2.22222222,\n",
       "       2.77777778, 3.33333333, 3.88888889, 4.44444444, 5.        ])"
      ]
     },
     "execution_count": 165,
     "metadata": {},
     "output_type": "execute_result"
    }
   ],
   "source": [
    "np.linspace(0,5,10) # this will create an array from 0 to 5 with 10 evenly spaced points"
   ]
  },
  {
   "cell_type": "markdown",
   "id": "83ac75bd",
   "metadata": {},
   "source": [
    "np.eye()"
   ]
  },
  {
   "cell_type": "code",
   "execution_count": 166,
   "id": "9ca13493",
   "metadata": {},
   "outputs": [
    {
     "data": {
      "text/plain": [
       "array([[1., 0., 0., 0.],\n",
       "       [0., 1., 0., 0.],\n",
       "       [0., 0., 1., 0.],\n",
       "       [0., 0., 0., 1.]])"
      ]
     },
     "execution_count": 166,
     "metadata": {},
     "output_type": "execute_result"
    }
   ],
   "source": [
    "np.eye(4) # this function is helpful in finding identity matrix, its helpful in linear algebra problems."
   ]
  },
  {
   "cell_type": "markdown",
   "id": "b79ca14b",
   "metadata": {},
   "source": [
    "np.random() and its sub functions"
   ]
  },
  {
   "cell_type": "code",
   "execution_count": 167,
   "id": "102bb9fd",
   "metadata": {},
   "outputs": [
    {
     "data": {
      "text/plain": [
       "array([0.45211568, 0.85310049, 0.36884779, 0.94450508, 0.80158942])"
      ]
     },
     "execution_count": 167,
     "metadata": {},
     "output_type": "execute_result"
    }
   ],
   "source": [
    "np.random.rand(5) # this will create an array of random numbers from 0 to 1.\n",
    "# In bracket we have to specify the number of elements that will be stored inside the array."
   ]
  },
  {
   "cell_type": "code",
   "execution_count": 168,
   "id": "d84847ec",
   "metadata": {},
   "outputs": [
    {
     "data": {
      "text/plain": [
       "array([[0.6755642 , 0.48924984, 0.29972617, 0.53385687, 0.75856016],\n",
       "       [0.22079614, 0.18734449, 0.97997473, 0.70706239, 0.76378991],\n",
       "       [0.36350497, 0.9214787 , 0.91377689, 0.52294345, 0.4275056 ],\n",
       "       [0.78357506, 0.29232969, 0.85561262, 0.22501104, 0.45881965],\n",
       "       [0.25676504, 0.58881706, 0.57553769, 0.5962911 , 0.95762073]])"
      ]
     },
     "execution_count": 168,
     "metadata": {},
     "output_type": "execute_result"
    }
   ],
   "source": [
    "np.random.rand(5,5) # this will create a 2D array of random numbers from 0 to 1.\n",
    "# In bracket we have to specify the number of rows and columns for the array."
   ]
  },
  {
   "cell_type": "code",
   "execution_count": 169,
   "id": "da38ddac",
   "metadata": {},
   "outputs": [
    {
     "data": {
      "text/plain": [
       "array([-0.00284265,  1.137773  ])"
      ]
     },
     "execution_count": 169,
     "metadata": {},
     "output_type": "execute_result"
    }
   ],
   "source": [
    "np.random.randn(2)  # this will create an array of random Gaussian or standard normal distribution center from 0 to 1.\n",
    "# In bracket we have to specify the number of elements that will be stored inside the array."
   ]
  },
  {
   "cell_type": "code",
   "execution_count": 170,
   "id": "3fff1d27",
   "metadata": {},
   "outputs": [
    {
     "data": {
      "text/plain": [
       "array([[ 0.29633696,  0.90773505,  0.20038381,  0.48215359],\n",
       "       [-1.15802433,  0.61751475, -0.28473304, -1.22320538],\n",
       "       [-0.99409632, -0.39350488, -0.92702361, -0.9044186 ],\n",
       "       [-0.53752384, -0.70396722, -0.45870063, -0.70684161]])"
      ]
     },
     "execution_count": 170,
     "metadata": {},
     "output_type": "execute_result"
    }
   ],
   "source": [
    "np.random.randn(4,4) # this will create a 2D array of random Gaussian or standard normal distribution center from 0 to 1.\n",
    "# In bracket we have to specify the number of rows and columns for the array."
   ]
  },
  {
   "cell_type": "code",
   "execution_count": 171,
   "id": "28c15220",
   "metadata": {},
   "outputs": [
    {
     "data": {
      "text/plain": [
       "array([10, 38,  1, 65, 16, 12, 61, 50, 51, 98])"
      ]
     },
     "execution_count": 171,
     "metadata": {},
     "output_type": "execute_result"
    }
   ],
   "source": [
    "np.random.randint(1,100,10) # this will give an array integer from 1 to 100. \n",
    "# Here 10 is the number of elements we want to store in our array.\n",
    "# Here 1 is inclusive but 100 is exclusive, i.e. 1 may come as a random outcome but 100 will never come."
   ]
  },
  {
   "cell_type": "markdown",
   "id": "35786e47",
   "metadata": {},
   "source": [
    "np.reshape()"
   ]
  },
  {
   "cell_type": "code",
   "execution_count": 172,
   "id": "a6017730",
   "metadata": {},
   "outputs": [],
   "source": [
    "arr = np.arange(25)"
   ]
  },
  {
   "cell_type": "code",
   "execution_count": 173,
   "id": "1dcb991c",
   "metadata": {},
   "outputs": [
    {
     "data": {
      "text/plain": [
       "array([ 0,  1,  2,  3,  4,  5,  6,  7,  8,  9, 10, 11, 12, 13, 14, 15, 16,\n",
       "       17, 18, 19, 20, 21, 22, 23, 24])"
      ]
     },
     "execution_count": 173,
     "metadata": {},
     "output_type": "execute_result"
    }
   ],
   "source": [
    "arr"
   ]
  },
  {
   "cell_type": "code",
   "execution_count": 174,
   "id": "85061d64",
   "metadata": {},
   "outputs": [
    {
     "data": {
      "text/plain": [
       "array([[ 0,  1,  2,  3,  4],\n",
       "       [ 5,  6,  7,  8,  9],\n",
       "       [10, 11, 12, 13, 14],\n",
       "       [15, 16, 17, 18, 19],\n",
       "       [20, 21, 22, 23, 24]])"
      ]
     },
     "execution_count": 174,
     "metadata": {},
     "output_type": "execute_result"
    }
   ],
   "source": [
    "arr.reshape(5,5)  # this will re-create a 2D array of the np.arange fucntion. \n",
    "# But we have to stick with the number of elements in the np.arange, we cant change it in reshape.\n",
    "# Like in top in np.arange we had 25 number of elements.\n",
    "# so for reshape function we can't change it to anything else but 5 * 5 for holding 25 number of elements.\n",
    "# Specifying anything other than that will show error."
   ]
  },
  {
   "cell_type": "markdown",
   "id": "2542e62e",
   "metadata": {},
   "source": [
    "np.max() / np.min() and its sub functions"
   ]
  },
  {
   "cell_type": "code",
   "execution_count": 175,
   "id": "ca83db60",
   "metadata": {},
   "outputs": [
    {
     "data": {
      "text/plain": [
       "24"
      ]
     },
     "execution_count": 175,
     "metadata": {},
     "output_type": "execute_result"
    }
   ],
   "source": [
    "arr.max() # this will give the maximum element in the array"
   ]
  },
  {
   "cell_type": "code",
   "execution_count": 176,
   "id": "c037bf81",
   "metadata": {},
   "outputs": [
    {
     "data": {
      "text/plain": [
       "0"
      ]
     },
     "execution_count": 176,
     "metadata": {},
     "output_type": "execute_result"
    }
   ],
   "source": [
    "arr.min() # this will give the minimum element in the array"
   ]
  },
  {
   "cell_type": "code",
   "execution_count": 177,
   "id": "d129d90a",
   "metadata": {},
   "outputs": [
    {
     "data": {
      "text/plain": [
       "24"
      ]
     },
     "execution_count": 177,
     "metadata": {},
     "output_type": "execute_result"
    }
   ],
   "source": [
    "arr.argmax() # this will return the index location of the max value"
   ]
  },
  {
   "cell_type": "code",
   "execution_count": 178,
   "id": "58d19d48",
   "metadata": {},
   "outputs": [
    {
     "data": {
      "text/plain": [
       "0"
      ]
     },
     "execution_count": 178,
     "metadata": {},
     "output_type": "execute_result"
    }
   ],
   "source": [
    "arr.argmin()  # this will return the index location of the min value"
   ]
  },
  {
   "cell_type": "code",
   "execution_count": 179,
   "id": "33a65203",
   "metadata": {},
   "outputs": [
    {
     "data": {
      "text/plain": [
       "(25,)"
      ]
     },
     "execution_count": 179,
     "metadata": {},
     "output_type": "execute_result"
    }
   ],
   "source": [
    "arr.shape # this will return the diment=sion or type of array one array is\n",
    "# in this case, this array is one dimensional with 25 elements, hence there is one value returning"
   ]
  },
  {
   "cell_type": "code",
   "execution_count": 180,
   "id": "450dfbe3",
   "metadata": {},
   "outputs": [],
   "source": [
    "arr = arr.reshape(5,5) # if we reshape it, then:"
   ]
  },
  {
   "cell_type": "code",
   "execution_count": 181,
   "id": "e3dd6ba7",
   "metadata": {},
   "outputs": [
    {
     "data": {
      "text/plain": [
       "(5, 5)"
      ]
     },
     "execution_count": 181,
     "metadata": {},
     "output_type": "execute_result"
    }
   ],
   "source": [
    "arr.shape # this will return the dimensions again, which is now in this 2D"
   ]
  },
  {
   "cell_type": "code",
   "execution_count": 182,
   "id": "45b6a933",
   "metadata": {},
   "outputs": [
    {
     "data": {
      "text/plain": [
       "dtype('int32')"
      ]
     },
     "execution_count": 182,
     "metadata": {},
     "output_type": "execute_result"
    }
   ],
   "source": [
    "arr.dtype # this will return the data type of elements inside the array.\n",
    "# in this case its 32 bit integers."
   ]
  },
  {
   "cell_type": "markdown",
   "id": "0ea52446",
   "metadata": {},
   "source": [
    "# Shortcut for getting rid of np all time"
   ]
  },
  {
   "cell_type": "code",
   "execution_count": 183,
   "id": "1d0a5119",
   "metadata": {},
   "outputs": [],
   "source": [
    "# for example we want to run np.random.randint(), but its too much to write np all the time.\n",
    "# for that we can:"
   ]
  },
  {
   "cell_type": "code",
   "execution_count": 184,
   "id": "cda4003f",
   "metadata": {},
   "outputs": [],
   "source": [
    "from numpy.random import randint"
   ]
  },
  {
   "cell_type": "code",
   "execution_count": 185,
   "id": "5216add6",
   "metadata": {},
   "outputs": [
    {
     "data": {
      "text/plain": [
       "3"
      ]
     },
     "execution_count": 185,
     "metadata": {},
     "output_type": "execute_result"
    }
   ],
   "source": [
    "randint(2, 10) # this will return a random integer from including 2 to excluding 10."
   ]
  },
  {
   "cell_type": "markdown",
   "id": "9ec69ef7",
   "metadata": {},
   "source": [
    "## Numpy Indexing and Selection"
   ]
  },
  {
   "cell_type": "code",
   "execution_count": 186,
   "id": "f48f9c44",
   "metadata": {},
   "outputs": [],
   "source": [
    "arr = np.arange(0,11)"
   ]
  },
  {
   "cell_type": "code",
   "execution_count": 187,
   "id": "182d704c",
   "metadata": {},
   "outputs": [
    {
     "data": {
      "text/plain": [
       "array([ 0,  1,  2,  3,  4,  5,  6,  7,  8,  9, 10])"
      ]
     },
     "execution_count": 187,
     "metadata": {},
     "output_type": "execute_result"
    }
   ],
   "source": [
    "arr"
   ]
  },
  {
   "cell_type": "code",
   "execution_count": 188,
   "id": "7050bb7d",
   "metadata": {},
   "outputs": [
    {
     "data": {
      "text/plain": [
       "8"
      ]
     },
     "execution_count": 188,
     "metadata": {},
     "output_type": "execute_result"
    }
   ],
   "source": [
    "arr[8] # index of value 8 which is 8"
   ]
  },
  {
   "cell_type": "code",
   "execution_count": 189,
   "id": "9f6e5ac4",
   "metadata": {},
   "outputs": [
    {
     "data": {
      "text/plain": [
       "array([1, 2, 3, 4])"
      ]
     },
     "execution_count": 189,
     "metadata": {},
     "output_type": "execute_result"
    }
   ],
   "source": [
    "arr[1:5] # slicing of array from 1 to 5.\n",
    "# 1 with index 0 to 4 as index 3"
   ]
  },
  {
   "cell_type": "code",
   "execution_count": 190,
   "id": "165b6053",
   "metadata": {},
   "outputs": [
    {
     "data": {
      "text/plain": [
       "array([0, 1, 2, 3, 4])"
      ]
     },
     "execution_count": 190,
     "metadata": {},
     "output_type": "execute_result"
    }
   ],
   "source": [
    "arr[0:5]"
   ]
  },
  {
   "cell_type": "code",
   "execution_count": 191,
   "id": "3a52ada9",
   "metadata": {},
   "outputs": [
    {
     "data": {
      "text/plain": [
       "array([0, 1, 2, 3, 4, 5])"
      ]
     },
     "execution_count": 191,
     "metadata": {},
     "output_type": "execute_result"
    }
   ],
   "source": [
    "arr[:6] # this will return everything  from start to index 6"
   ]
  },
  {
   "cell_type": "code",
   "execution_count": 192,
   "id": "069f0c26",
   "metadata": {},
   "outputs": [
    {
     "data": {
      "text/plain": [
       "array([ 5,  6,  7,  8,  9, 10])"
      ]
     },
     "execution_count": 192,
     "metadata": {},
     "output_type": "execute_result"
    }
   ],
   "source": [
    "arr[5:] # this will return everything from 5 onwards to the end of the array"
   ]
  },
  {
   "cell_type": "code",
   "execution_count": 193,
   "id": "ad4517d9",
   "metadata": {},
   "outputs": [],
   "source": [
    "arr[0:5] = 100 # this will broadcast 100 as the element from index 0 to before 5"
   ]
  },
  {
   "cell_type": "code",
   "execution_count": 194,
   "id": "d807b51d",
   "metadata": {},
   "outputs": [
    {
     "data": {
      "text/plain": [
       "array([100, 100, 100, 100, 100,   5,   6,   7,   8,   9,  10])"
      ]
     },
     "execution_count": 194,
     "metadata": {},
     "output_type": "execute_result"
    }
   ],
   "source": [
    "arr"
   ]
  },
  {
   "cell_type": "code",
   "execution_count": 195,
   "id": "6547be70",
   "metadata": {},
   "outputs": [],
   "source": [
    "slice_of_arr = arr[0:6] # this will return everything from 0 to before 6 index"
   ]
  },
  {
   "cell_type": "code",
   "execution_count": 196,
   "id": "fc23d7d8",
   "metadata": {},
   "outputs": [
    {
     "data": {
      "text/plain": [
       "array([100, 100, 100, 100, 100,   5])"
      ]
     },
     "execution_count": 196,
     "metadata": {},
     "output_type": "execute_result"
    }
   ],
   "source": [
    "slice_of_arr "
   ]
  },
  {
   "cell_type": "code",
   "execution_count": 197,
   "id": "4a9682e6",
   "metadata": {},
   "outputs": [],
   "source": [
    "arr = np.arange(0,11)"
   ]
  },
  {
   "cell_type": "code",
   "execution_count": 198,
   "id": "7913b47b",
   "metadata": {},
   "outputs": [
    {
     "data": {
      "text/plain": [
       "array([ 0,  1,  2,  3,  4,  5,  6,  7,  8,  9, 10])"
      ]
     },
     "execution_count": 198,
     "metadata": {},
     "output_type": "execute_result"
    }
   ],
   "source": [
    "arr"
   ]
  },
  {
   "cell_type": "code",
   "execution_count": 199,
   "id": "3d8950b5",
   "metadata": {},
   "outputs": [],
   "source": [
    "slice_of_arr = arr[0:6]"
   ]
  },
  {
   "cell_type": "code",
   "execution_count": 200,
   "id": "ce0fe8aa",
   "metadata": {},
   "outputs": [
    {
     "data": {
      "text/plain": [
       "array([0, 1, 2, 3, 4, 5])"
      ]
     },
     "execution_count": 200,
     "metadata": {},
     "output_type": "execute_result"
    }
   ],
   "source": [
    "slice_of_arr"
   ]
  },
  {
   "cell_type": "code",
   "execution_count": 201,
   "id": "ba330413",
   "metadata": {},
   "outputs": [
    {
     "data": {
      "text/plain": [
       "array([0, 1, 2, 3, 4, 5])"
      ]
     },
     "execution_count": 201,
     "metadata": {},
     "output_type": "execute_result"
    }
   ],
   "source": [
    "slice_of_arr[:] # [:] means grabbing everything in one array"
   ]
  },
  {
   "cell_type": "code",
   "execution_count": 202,
   "id": "27161fe8",
   "metadata": {},
   "outputs": [],
   "source": [
    "slice_of_arr[:] = 99  # this will broadcast 99 as the element for the entire array"
   ]
  },
  {
   "cell_type": "code",
   "execution_count": 203,
   "id": "ef58ec0f",
   "metadata": {},
   "outputs": [
    {
     "data": {
      "text/plain": [
       "array([99, 99, 99, 99, 99, 99])"
      ]
     },
     "execution_count": 203,
     "metadata": {},
     "output_type": "execute_result"
    }
   ],
   "source": [
    "slice_of_arr"
   ]
  },
  {
   "cell_type": "code",
   "execution_count": 204,
   "id": "17fb2da4",
   "metadata": {},
   "outputs": [
    {
     "data": {
      "text/plain": [
       "array([99, 99, 99, 99, 99, 99,  6,  7,  8,  9, 10])"
      ]
     },
     "execution_count": 204,
     "metadata": {},
     "output_type": "execute_result"
    }
   ],
   "source": [
    "arr # this change of 99 occuring in the original array too.\n",
    "# because the data is not copied and its just a view of the original array.\n",
    "# NumPy does this to avoid memory issues with very large arrays."
   ]
  },
  {
   "cell_type": "code",
   "execution_count": 205,
   "id": "d73b1ed8",
   "metadata": {},
   "outputs": [],
   "source": [
    "arr_copy = arr.copy() # this function will create a copy of our data "
   ]
  },
  {
   "cell_type": "code",
   "execution_count": 206,
   "id": "039e774e",
   "metadata": {},
   "outputs": [
    {
     "data": {
      "text/plain": [
       "array([99, 99, 99, 99, 99, 99,  6,  7,  8,  9, 10])"
      ]
     },
     "execution_count": 206,
     "metadata": {},
     "output_type": "execute_result"
    }
   ],
   "source": [
    "arr # for now original array and"
   ]
  },
  {
   "cell_type": "code",
   "execution_count": 207,
   "id": "47a4e9c7",
   "metadata": {},
   "outputs": [
    {
     "data": {
      "text/plain": [
       "array([99, 99, 99, 99, 99, 99,  6,  7,  8,  9, 10])"
      ]
     },
     "execution_count": 207,
     "metadata": {},
     "output_type": "execute_result"
    }
   ],
   "source": [
    "arr_copy # copied array are same"
   ]
  },
  {
   "cell_type": "code",
   "execution_count": 208,
   "id": "186ffc05",
   "metadata": {},
   "outputs": [],
   "source": [
    "arr_copy[:] = 100 # we can make changes to the copied arr"
   ]
  },
  {
   "cell_type": "code",
   "execution_count": 209,
   "id": "45fd393a",
   "metadata": {},
   "outputs": [
    {
     "data": {
      "text/plain": [
       "array([100, 100, 100, 100, 100, 100, 100, 100, 100, 100, 100])"
      ]
     },
     "execution_count": 209,
     "metadata": {},
     "output_type": "execute_result"
    }
   ],
   "source": [
    "arr_copy"
   ]
  },
  {
   "cell_type": "code",
   "execution_count": 210,
   "id": "66d16b22",
   "metadata": {},
   "outputs": [
    {
     "data": {
      "text/plain": [
       "array([99, 99, 99, 99, 99, 99,  6,  7,  8,  9, 10])"
      ]
     },
     "execution_count": 210,
     "metadata": {},
     "output_type": "execute_result"
    }
   ],
   "source": [
    "arr # so now the original array is unaffected and we can make changes to the copied array however we want to"
   ]
  },
  {
   "cell_type": "markdown",
   "id": "bba0fe3c",
   "metadata": {},
   "source": [
    "Indexing, Slicing Selection on 2D Arrays"
   ]
  },
  {
   "cell_type": "code",
   "execution_count": 211,
   "id": "6d145170",
   "metadata": {},
   "outputs": [],
   "source": [
    "arr_2d = np.array([[5,10,15],[20,25,30],[35,40,45]])"
   ]
  },
  {
   "cell_type": "code",
   "execution_count": 212,
   "id": "830c4d8a",
   "metadata": {},
   "outputs": [
    {
     "data": {
      "text/plain": [
       "array([[ 5, 10, 15],\n",
       "       [20, 25, 30],\n",
       "       [35, 40, 45]])"
      ]
     },
     "execution_count": 212,
     "metadata": {},
     "output_type": "execute_result"
    }
   ],
   "source": [
    "arr_2d"
   ]
  },
  {
   "cell_type": "code",
   "execution_count": 213,
   "id": "4dbccbac",
   "metadata": {},
   "outputs": [
    {
     "data": {
      "text/plain": [
       "5"
      ]
     },
     "execution_count": 213,
     "metadata": {},
     "output_type": "execute_result"
    }
   ],
   "source": [
    "arr_2d[0][0] # for grabbing an element in 2D array:\n",
    "# we have to first specify the index of specific array then the index of its element\n",
    "# this is called 'double bracket notation'."
   ]
  },
  {
   "cell_type": "code",
   "execution_count": 214,
   "id": "e63a2a57",
   "metadata": {},
   "outputs": [
    {
     "data": {
      "text/plain": [
       "5"
      ]
     },
     "execution_count": 214,
     "metadata": {},
     "output_type": "execute_result"
    }
   ],
   "source": [
    "# we can also use 'single bracket notation' to grab elements from a 2D array\n",
    "arr_2d[0,0]"
   ]
  },
  {
   "cell_type": "markdown",
   "id": "1ac09414",
   "metadata": {},
   "source": [
    "What if we want to grab some from one matrix then another from some another matrix"
   ]
  },
  {
   "cell_type": "code",
   "execution_count": 215,
   "id": "577c8d31",
   "metadata": {},
   "outputs": [
    {
     "data": {
      "text/plain": [
       "array([[10, 15],\n",
       "       [25, 30]])"
      ]
     },
     "execution_count": 215,
     "metadata": {},
     "output_type": "execute_result"
    }
   ],
   "source": [
    "arr_2d[:2,1:] # this means grabbing everything upto row 1 , and then grabbing from column 0"
   ]
  },
  {
   "cell_type": "markdown",
   "id": "bf3ba533",
   "metadata": {},
   "source": [
    "# Conditional Selection"
   ]
  },
  {
   "cell_type": "code",
   "execution_count": 216,
   "id": "28f8884d",
   "metadata": {},
   "outputs": [],
   "source": [
    "arr = np.arange(1, 11)"
   ]
  },
  {
   "cell_type": "code",
   "execution_count": 217,
   "id": "a7da54a6",
   "metadata": {},
   "outputs": [
    {
     "data": {
      "text/plain": [
       "array([ 1,  2,  3,  4,  5,  6,  7,  8,  9, 10])"
      ]
     },
     "execution_count": 217,
     "metadata": {},
     "output_type": "execute_result"
    }
   ],
   "source": [
    "arr"
   ]
  },
  {
   "cell_type": "code",
   "execution_count": 218,
   "id": "6ed63bf7",
   "metadata": {},
   "outputs": [],
   "source": [
    "bool_arr = arr > 5  # this will check with every elements of the array if 5 is greater than them or not,\n",
    "# and will return boolean values."
   ]
  },
  {
   "cell_type": "code",
   "execution_count": 219,
   "id": "e03f5e92",
   "metadata": {},
   "outputs": [
    {
     "data": {
      "text/plain": [
       "array([False, False, False, False, False,  True,  True,  True,  True,\n",
       "        True])"
      ]
     },
     "execution_count": 219,
     "metadata": {},
     "output_type": "execute_result"
    }
   ],
   "source": [
    "bool_arr"
   ]
  },
  {
   "cell_type": "code",
   "execution_count": 220,
   "id": "f5ebedfe",
   "metadata": {},
   "outputs": [
    {
     "data": {
      "text/plain": [
       "array([ 6,  7,  8,  9, 10])"
      ]
     },
     "execution_count": 220,
     "metadata": {},
     "output_type": "execute_result"
    }
   ],
   "source": [
    "arr[bool_arr] # this will return the array with only True Values and will remove False ones"
   ]
  },
  {
   "cell_type": "code",
   "execution_count": 221,
   "id": "aeffaf8b",
   "metadata": {},
   "outputs": [
    {
     "data": {
      "text/plain": [
       "array([ 6,  7,  8,  9, 10])"
      ]
     },
     "execution_count": 221,
     "metadata": {},
     "output_type": "execute_result"
    }
   ],
   "source": [
    "arr[arr>5] # this will also return the same. It is the shortcut for the above"
   ]
  },
  {
   "cell_type": "code",
   "execution_count": 222,
   "id": "d59d40a3",
   "metadata": {},
   "outputs": [],
   "source": [
    "arr_2d = np.arange(50).reshape(5,10)"
   ]
  },
  {
   "cell_type": "markdown",
   "id": "e3dd84c2",
   "metadata": {},
   "source": [
    "Problem Statement Based on Indexing and Selection:"
   ]
  },
  {
   "cell_type": "code",
   "execution_count": 223,
   "id": "b0e7c43f",
   "metadata": {},
   "outputs": [
    {
     "data": {
      "text/plain": [
       "array([[ 0,  1,  2,  3,  4,  5,  6,  7,  8,  9],\n",
       "       [10, 11, 12, 13, 14, 15, 16, 17, 18, 19],\n",
       "       [20, 21, 22, 23, 24, 25, 26, 27, 28, 29],\n",
       "       [30, 31, 32, 33, 34, 35, 36, 37, 38, 39],\n",
       "       [40, 41, 42, 43, 44, 45, 46, 47, 48, 49]])"
      ]
     },
     "execution_count": 223,
     "metadata": {},
     "output_type": "execute_result"
    }
   ],
   "source": [
    "arr_2d"
   ]
  },
  {
   "cell_type": "markdown",
   "id": "a116952a",
   "metadata": {},
   "source": [
    "Suppose we want 13,14 and 23,24, we have to:"
   ]
  },
  {
   "cell_type": "code",
   "execution_count": 224,
   "id": "bd0febb7",
   "metadata": {},
   "outputs": [
    {
     "data": {
      "text/plain": [
       "array([[13, 14],\n",
       "       [23, 24]])"
      ]
     },
     "execution_count": 224,
     "metadata": {},
     "output_type": "execute_result"
    }
   ],
   "source": [
    "arr_2d[1:3,3:5] # this will return rows from 1 o before 3, i.e 1,2 \n",
    "# and this will return column 3 to before 5 based on rows mentioned before."
   ]
  }
 ],
 "metadata": {
  "kernelspec": {
   "display_name": "Python 3 (ipykernel)",
   "language": "python",
   "name": "python3"
  },
  "language_info": {
   "codemirror_mode": {
    "name": "ipython",
    "version": 3
   },
   "file_extension": ".py",
   "mimetype": "text/x-python",
   "name": "python",
   "nbconvert_exporter": "python",
   "pygments_lexer": "ipython3",
   "version": "3.9.13"
  }
 },
 "nbformat": 4,
 "nbformat_minor": 5
}
