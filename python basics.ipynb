{
 "cells": [
  {
   "cell_type": "markdown",
   "id": "7425326d",
   "metadata": {},
   "source": [
    "# Python Arithmetic Operators"
   ]
  },
  {
   "cell_type": "markdown",
   "id": "c3f9282d",
   "metadata": {},
   "source": [
    "Additon (+)"
   ]
  },
  {
   "cell_type": "code",
   "execution_count": 1,
   "id": "2ad731d9",
   "metadata": {},
   "outputs": [
    {
     "data": {
      "text/plain": [
       "21"
      ]
     },
     "execution_count": 1,
     "metadata": {},
     "output_type": "execute_result"
    }
   ],
   "source": [
    "1+2+3+4+5+6"
   ]
  },
  {
   "cell_type": "code",
   "execution_count": 19,
   "id": "baa2f7ec",
   "metadata": {},
   "outputs": [
    {
     "data": {
      "text/plain": [
       "23.25"
      ]
     },
     "execution_count": 19,
     "metadata": {},
     "output_type": "execute_result"
    }
   ],
   "source": [
    "1+0.3+0.5+5+7+9.45"
   ]
  },
  {
   "cell_type": "markdown",
   "id": "d03e8293",
   "metadata": {},
   "source": [
    "Subtraction (-)"
   ]
  },
  {
   "cell_type": "code",
   "execution_count": 20,
   "id": "b296f555",
   "metadata": {},
   "outputs": [
    {
     "data": {
      "text/plain": [
       "-8"
      ]
     },
     "execution_count": 20,
     "metadata": {},
     "output_type": "execute_result"
    }
   ],
   "source": [
    "1-2-3-4"
   ]
  },
  {
   "cell_type": "code",
   "execution_count": 21,
   "id": "3d3693ba",
   "metadata": {},
   "outputs": [
    {
     "data": {
      "text/plain": [
       "-9.0"
      ]
     },
     "execution_count": 21,
     "metadata": {},
     "output_type": "execute_result"
    }
   ],
   "source": [
    "1-0.4-9.6"
   ]
  },
  {
   "cell_type": "markdown",
   "id": "0453d030",
   "metadata": {},
   "source": [
    "Multiplication (*)"
   ]
  },
  {
   "cell_type": "code",
   "execution_count": 22,
   "id": "d628c778",
   "metadata": {},
   "outputs": [
    {
     "data": {
      "text/plain": [
       "4.5424"
      ]
     },
     "execution_count": 22,
     "metadata": {},
     "output_type": "execute_result"
    }
   ],
   "source": [
    "2 * 4 * 0.5678"
   ]
  },
  {
   "cell_type": "code",
   "execution_count": 23,
   "id": "05f6f6dc",
   "metadata": {},
   "outputs": [
    {
     "data": {
      "text/plain": [
       "-282.77929"
      ]
     },
     "execution_count": 23,
     "metadata": {},
     "output_type": "execute_result"
    }
   ],
   "source": [
    "2.987 * -94.67"
   ]
  },
  {
   "cell_type": "markdown",
   "id": "adac8d32",
   "metadata": {},
   "source": [
    "Division (/)"
   ]
  },
  {
   "cell_type": "code",
   "execution_count": 24,
   "id": "666c1bea",
   "metadata": {},
   "outputs": [
    {
     "data": {
      "text/plain": [
       "0.5"
      ]
     },
     "execution_count": 24,
     "metadata": {},
     "output_type": "execute_result"
    }
   ],
   "source": [
    "1/2"
   ]
  },
  {
   "cell_type": "code",
   "execution_count": 25,
   "id": "59eda625",
   "metadata": {},
   "outputs": [
    {
     "data": {
      "text/plain": [
       "0.00011936643528551265"
      ]
     },
     "execution_count": 25,
     "metadata": {},
     "output_type": "execute_result"
    }
   ],
   "source": [
    "-0.678/-5679.98867"
   ]
  },
  {
   "cell_type": "markdown",
   "id": "71db0288",
   "metadata": {},
   "source": [
    "Divison (Floor) (//)"
   ]
  },
  {
   "cell_type": "code",
   "execution_count": 45,
   "id": "06c47c57",
   "metadata": {},
   "outputs": [
    {
     "data": {
      "text/plain": [
       "3.1891822936599055"
      ]
     },
     "execution_count": 45,
     "metadata": {},
     "output_type": "execute_result"
    }
   ],
   "source": [
    "5 / 1.5678"
   ]
  },
  {
   "cell_type": "code",
   "execution_count": 46,
   "id": "5f940c79",
   "metadata": {},
   "outputs": [
    {
     "data": {
      "text/plain": [
       "4.777777777777778"
      ]
     },
     "execution_count": 46,
     "metadata": {},
     "output_type": "execute_result"
    }
   ],
   "source": [
    "43 / 9"
   ]
  },
  {
   "cell_type": "markdown",
   "id": "b17a952f",
   "metadata": {},
   "source": [
    "Power of (**)"
   ]
  },
  {
   "cell_type": "code",
   "execution_count": 26,
   "id": "c1829377",
   "metadata": {},
   "outputs": [
    {
     "data": {
      "text/plain": [
       "2417851639229258349412352"
      ]
     },
     "execution_count": 26,
     "metadata": {},
     "output_type": "execute_result"
    }
   ],
   "source": [
    "2 ** 3 ** 4"
   ]
  },
  {
   "cell_type": "code",
   "execution_count": 27,
   "id": "bc4e83c0",
   "metadata": {},
   "outputs": [
    {
     "data": {
      "text/plain": [
       "16"
      ]
     },
     "execution_count": 27,
     "metadata": {},
     "output_type": "execute_result"
    }
   ],
   "source": [
    "2 ** 4"
   ]
  },
  {
   "cell_type": "markdown",
   "id": "9754436b",
   "metadata": {},
   "source": [
    " Parentheses Exponentiation Multiplication Division Addition Subtraction "
   ]
  },
  {
   "cell_type": "code",
   "execution_count": 28,
   "id": "a0a0822f",
   "metadata": {},
   "outputs": [
    {
     "data": {
      "text/plain": [
       "22"
      ]
     },
     "execution_count": 28,
     "metadata": {},
     "output_type": "execute_result"
    }
   ],
   "source": [
    "2 + 3 * 5 + 5"
   ]
  },
  {
   "cell_type": "code",
   "execution_count": 29,
   "id": "d3344c4d",
   "metadata": {},
   "outputs": [
    {
     "data": {
      "text/plain": [
       "62.5"
      ]
     },
     "execution_count": 29,
     "metadata": {},
     "output_type": "execute_result"
    }
   ],
   "source": [
    "(2+3) ** 4 * 5 / 50"
   ]
  },
  {
   "cell_type": "markdown",
   "id": "73abf5cd",
   "metadata": {},
   "source": [
    "Modulus (Remainder)"
   ]
  },
  {
   "cell_type": "code",
   "execution_count": 31,
   "id": "b7bea86e",
   "metadata": {},
   "outputs": [
    {
     "data": {
      "text/plain": [
       "0"
      ]
     },
     "execution_count": 31,
     "metadata": {},
     "output_type": "execute_result"
    }
   ],
   "source": [
    "4 % 2"
   ]
  },
  {
   "cell_type": "code",
   "execution_count": 32,
   "id": "8d85c04b",
   "metadata": {},
   "outputs": [
    {
     "data": {
      "text/plain": [
       "0.5"
      ]
     },
     "execution_count": 32,
     "metadata": {},
     "output_type": "execute_result"
    }
   ],
   "source": [
    "0.5 % 4"
   ]
  },
  {
   "cell_type": "markdown",
   "id": "ad505911",
   "metadata": {},
   "source": [
    "# Python Assignment Operators"
   ]
  },
  {
   "cell_type": "markdown",
   "id": "aa167eaa",
   "metadata": {},
   "source": [
    "="
   ]
  },
  {
   "cell_type": "code",
   "execution_count": 33,
   "id": "aecb8ae9",
   "metadata": {},
   "outputs": [],
   "source": [
    "var = 2"
   ]
  },
  {
   "cell_type": "code",
   "execution_count": 34,
   "id": "85619fdb",
   "metadata": {},
   "outputs": [
    {
     "data": {
      "text/plain": [
       "2"
      ]
     },
     "execution_count": 34,
     "metadata": {},
     "output_type": "execute_result"
    }
   ],
   "source": [
    "var"
   ]
  },
  {
   "cell_type": "code",
   "execution_count": 35,
   "id": "8376d649",
   "metadata": {},
   "outputs": [],
   "source": [
    "x = 2\n",
    "y = 3"
   ]
  },
  {
   "cell_type": "code",
   "execution_count": 36,
   "id": "edd6dd2f",
   "metadata": {},
   "outputs": [
    {
     "data": {
      "text/plain": [
       "5"
      ]
     },
     "execution_count": 36,
     "metadata": {},
     "output_type": "execute_result"
    }
   ],
   "source": [
    "x + y"
   ]
  },
  {
   "cell_type": "code",
   "execution_count": 37,
   "id": "bc744043",
   "metadata": {},
   "outputs": [],
   "source": [
    "x = x + x"
   ]
  },
  {
   "cell_type": "code",
   "execution_count": 38,
   "id": "4f9fb1be",
   "metadata": {},
   "outputs": [
    {
     "data": {
      "text/plain": [
       "4"
      ]
     },
     "execution_count": 38,
     "metadata": {},
     "output_type": "execute_result"
    }
   ],
   "source": [
    "x"
   ]
  },
  {
   "cell_type": "markdown",
   "id": "7c276ca5",
   "metadata": {},
   "source": [
    "+="
   ]
  },
  {
   "cell_type": "code",
   "execution_count": 40,
   "id": "c3a1e650",
   "metadata": {},
   "outputs": [],
   "source": [
    "x += 3  # x = x + 3"
   ]
  },
  {
   "cell_type": "code",
   "execution_count": 41,
   "id": "ed955211",
   "metadata": {},
   "outputs": [
    {
     "data": {
      "text/plain": [
       "7"
      ]
     },
     "execution_count": 41,
     "metadata": {},
     "output_type": "execute_result"
    }
   ],
   "source": [
    "x"
   ]
  },
  {
   "cell_type": "markdown",
   "id": "804ee5c3",
   "metadata": {},
   "source": [
    "Similarly -=, *=, /=, %=, //=, * *="
   ]
  },
  {
   "cell_type": "markdown",
   "id": "09f83374",
   "metadata": {},
   "source": [
    "## Data Types"
   ]
  },
  {
   "cell_type": "markdown",
   "id": "bdcaceda",
   "metadata": {},
   "source": [
    "Strings"
   ]
  },
  {
   "cell_type": "code",
   "execution_count": 48,
   "id": "c131141c",
   "metadata": {},
   "outputs": [
    {
     "data": {
      "text/plain": [
       "'single quote'"
      ]
     },
     "execution_count": 48,
     "metadata": {},
     "output_type": "execute_result"
    }
   ],
   "source": [
    "'single quote'"
   ]
  },
  {
   "cell_type": "code",
   "execution_count": 50,
   "id": "470599fa",
   "metadata": {},
   "outputs": [
    {
     "data": {
      "text/plain": [
       "'double quote'"
      ]
     },
     "execution_count": 50,
     "metadata": {},
     "output_type": "execute_result"
    }
   ],
   "source": [
    "\"double quote\""
   ]
  },
  {
   "cell_type": "code",
   "execution_count": 51,
   "id": "f62cb0e9",
   "metadata": {},
   "outputs": [],
   "source": [
    "x = 'hello'"
   ]
  },
  {
   "cell_type": "code",
   "execution_count": 52,
   "id": "6b455f03",
   "metadata": {},
   "outputs": [
    {
     "data": {
      "text/plain": [
       "'hello'"
      ]
     },
     "execution_count": 52,
     "metadata": {},
     "output_type": "execute_result"
    }
   ],
   "source": [
    "x"
   ]
  },
  {
   "cell_type": "code",
   "execution_count": 53,
   "id": "da6558bb",
   "metadata": {},
   "outputs": [],
   "source": [
    "name = 'Sujita'\n",
    "age = 19"
   ]
  },
  {
   "cell_type": "code",
   "execution_count": 55,
   "id": "e4ac748b",
   "metadata": {},
   "outputs": [
    {
     "data": {
      "text/plain": [
       "'Hey there, Sujita congrats on turning 19'"
      ]
     },
     "execution_count": 55,
     "metadata": {},
     "output_type": "execute_result"
    }
   ],
   "source": [
    "'Hey there, {} congrats on turning {}'.format(name, age)"
   ]
  },
  {
   "cell_type": "code",
   "execution_count": 57,
   "id": "f900492c",
   "metadata": {},
   "outputs": [
    {
     "name": "stdout",
     "output_type": "stream",
     "text": [
      "Hey there, Sujita congrats on turning 19\n"
     ]
    }
   ],
   "source": [
    "print('Hey there, {} congrats on turning {}'.format(name, age)) # the Out[] wont be there with print function"
   ]
  },
  {
   "cell_type": "code",
   "execution_count": 62,
   "id": "67b14fbd",
   "metadata": {},
   "outputs": [
    {
     "name": "stdout",
     "output_type": "stream",
     "text": [
      "I am Sujita and I am currently 19, three days back it was 19 as well\n"
     ]
    }
   ],
   "source": [
    "print('I am {one} and I am currently {two}, three days back it was {two} as well'.format(one = name, two = age))\n",
    "# we can change order of format here "
   ]
  },
  {
   "cell_type": "markdown",
   "id": "277446b5",
   "metadata": {},
   "source": [
    "Arrays (collection of items of same data type)"
   ]
  },
  {
   "cell_type": "code",
   "execution_count": 63,
   "id": "54f23e9b",
   "metadata": {},
   "outputs": [],
   "source": [
    "s = 'hello'"
   ]
  },
  {
   "cell_type": "code",
   "execution_count": 64,
   "id": "f12603a1",
   "metadata": {},
   "outputs": [
    {
     "data": {
      "text/plain": [
       "'h'"
      ]
     },
     "execution_count": 64,
     "metadata": {},
     "output_type": "execute_result"
    }
   ],
   "source": [
    "s [0]  # indexing"
   ]
  },
  {
   "cell_type": "code",
   "execution_count": 65,
   "id": "a430ade1",
   "metadata": {},
   "outputs": [
    {
     "data": {
      "text/plain": [
       "'hello'"
      ]
     },
     "execution_count": 65,
     "metadata": {},
     "output_type": "execute_result"
    }
   ],
   "source": [
    "s[0:]  # slicing "
   ]
  },
  {
   "cell_type": "code",
   "execution_count": 67,
   "id": "768944db",
   "metadata": {},
   "outputs": [
    {
     "data": {
      "text/plain": [
       "'hel'"
      ]
     },
     "execution_count": 67,
     "metadata": {},
     "output_type": "execute_result"
    }
   ],
   "source": [
    "s[:3]  # upto and not including index 3"
   ]
  },
  {
   "cell_type": "code",
   "execution_count": 69,
   "id": "313fc2bb",
   "metadata": {},
   "outputs": [
    {
     "data": {
      "text/plain": [
       "'ell'"
      ]
     },
     "execution_count": 69,
     "metadata": {},
     "output_type": "execute_result"
    }
   ],
   "source": [
    "s[1:4] # from 1 to before 4"
   ]
  },
  {
   "cell_type": "markdown",
   "id": "217d1990",
   "metadata": {},
   "source": [
    "Lists (Collection of items of multiple data type)"
   ]
  },
  {
   "cell_type": "code",
   "execution_count": 80,
   "id": "0dc7f7ad",
   "metadata": {},
   "outputs": [
    {
     "data": {
      "text/plain": [
       "['a', 'b', 'c']"
      ]
     },
     "execution_count": 80,
     "metadata": {},
     "output_type": "execute_result"
    }
   ],
   "source": [
    "['a', 'b', 'c']"
   ]
  },
  {
   "cell_type": "code",
   "execution_count": 81,
   "id": "b32193f1",
   "metadata": {},
   "outputs": [],
   "source": [
    "my_list = ['a', 'b', 'c']"
   ]
  },
  {
   "cell_type": "code",
   "execution_count": 82,
   "id": "ea024472",
   "metadata": {},
   "outputs": [],
   "source": [
    "my_list.append('d')  # Adding an item to the end of the list"
   ]
  },
  {
   "cell_type": "code",
   "execution_count": 83,
   "id": "a62f3938",
   "metadata": {},
   "outputs": [
    {
     "data": {
      "text/plain": [
       "['a', 'b', 'c', 'd']"
      ]
     },
     "execution_count": 83,
     "metadata": {},
     "output_type": "execute_result"
    }
   ],
   "source": [
    "my_list"
   ]
  },
  {
   "cell_type": "code",
   "execution_count": 84,
   "id": "c9f77214",
   "metadata": {},
   "outputs": [
    {
     "data": {
      "text/plain": [
       "'a'"
      ]
     },
     "execution_count": 84,
     "metadata": {},
     "output_type": "execute_result"
    }
   ],
   "source": [
    "my_list[0]  # indexing in list"
   ]
  },
  {
   "cell_type": "code",
   "execution_count": 85,
   "id": "281c0671",
   "metadata": {},
   "outputs": [
    {
     "data": {
      "text/plain": [
       "['b', 'c']"
      ]
     },
     "execution_count": 85,
     "metadata": {},
     "output_type": "execute_result"
    }
   ],
   "source": [
    "my_list[1:3] # slicing in list from 1 to before 3"
   ]
  },
  {
   "cell_type": "code",
   "execution_count": 86,
   "id": "c92ef489",
   "metadata": {},
   "outputs": [],
   "source": [
    "my_list[1] = 'REPLACED SUCCESSFULLY'  # replacing elements in list"
   ]
  },
  {
   "cell_type": "code",
   "execution_count": 87,
   "id": "bed77ff0",
   "metadata": {},
   "outputs": [
    {
     "data": {
      "text/plain": [
       "['a', 'REPLACED SUCCESSFULLY', 'c', 'd']"
      ]
     },
     "execution_count": 87,
     "metadata": {},
     "output_type": "execute_result"
    }
   ],
   "source": [
    "my_list"
   ]
  },
  {
   "cell_type": "code",
   "execution_count": 89,
   "id": "39657de4",
   "metadata": {},
   "outputs": [],
   "source": [
    "nest = [1, 2, [3, 4], 5] # nesting list inside another list"
   ]
  },
  {
   "cell_type": "code",
   "execution_count": 90,
   "id": "bffa6d3a",
   "metadata": {},
   "outputs": [
    {
     "data": {
      "text/plain": [
       "[1, 2, [3, 4], 5]"
      ]
     },
     "execution_count": 90,
     "metadata": {},
     "output_type": "execute_result"
    }
   ],
   "source": [
    "nest"
   ]
  },
  {
   "cell_type": "code",
   "execution_count": 91,
   "id": "6f08b565",
   "metadata": {},
   "outputs": [
    {
     "data": {
      "text/plain": [
       "[3, 4]"
      ]
     },
     "execution_count": 91,
     "metadata": {},
     "output_type": "execute_result"
    }
   ],
   "source": [
    "nest[2] # list index 2 / second list"
   ]
  },
  {
   "cell_type": "code",
   "execution_count": 94,
   "id": "71ab3ce0",
   "metadata": {},
   "outputs": [
    {
     "data": {
      "text/plain": [
       "4"
      ]
     },
     "execution_count": 94,
     "metadata": {},
     "output_type": "execute_result"
    }
   ],
   "source": [
    "nest[2][1] # list index 2/ second list, element 1"
   ]
  },
  {
   "cell_type": "code",
   "execution_count": 95,
   "id": "e48f5170",
   "metadata": {},
   "outputs": [],
   "source": [
    "nest = [1, 2, 3, [4, 5,['target']]] # a list can contain multiple data type elements "
   ]
  },
  {
   "cell_type": "code",
   "execution_count": 100,
   "id": "7446b53b",
   "metadata": {},
   "outputs": [
    {
     "data": {
      "text/plain": [
       "['target']"
      ]
     },
     "execution_count": 100,
     "metadata": {},
     "output_type": "execute_result"
    }
   ],
   "source": [
    "nest[3][2]  "
   ]
  },
  {
   "cell_type": "code",
   "execution_count": 101,
   "id": "5c5ce379",
   "metadata": {},
   "outputs": [
    {
     "data": {
      "text/plain": [
       "'target'"
      ]
     },
     "execution_count": 101,
     "metadata": {},
     "output_type": "execute_result"
    }
   ],
   "source": [
    "nest[3][2][0]  # 0 will remove the brackets"
   ]
  },
  {
   "cell_type": "markdown",
   "id": "b33de535",
   "metadata": {},
   "source": [
    "Dictionary (Collection of keys and their values)"
   ]
  },
  {
   "cell_type": "code",
   "execution_count": 102,
   "id": "0e092f56",
   "metadata": {},
   "outputs": [],
   "source": [
    "d = {'key1':'value', 'key2':'123'} # dictionary structure {'key':'its value'}"
   ]
  },
  {
   "cell_type": "code",
   "execution_count": 104,
   "id": "6697a04b",
   "metadata": {},
   "outputs": [
    {
     "data": {
      "text/plain": [
       "'123'"
      ]
     },
     "execution_count": 104,
     "metadata": {},
     "output_type": "execute_result"
    }
   ],
   "source": [
    "d['key2']  # give key to get its value"
   ]
  },
  {
   "cell_type": "code",
   "execution_count": 106,
   "id": "6b2157f7",
   "metadata": {},
   "outputs": [],
   "source": [
    "d = {'city' : ['New York', 'Calcutta', 'California', 'Tokyo', 1, 2, 3]} # supports multi data type "
   ]
  },
  {
   "cell_type": "code",
   "execution_count": 107,
   "id": "da3c2ec4",
   "metadata": {},
   "outputs": [
    {
     "data": {
      "text/plain": [
       "['New York', 'Calcutta', 'California', 'Tokyo', 1, 2, 3]"
      ]
     },
     "execution_count": 107,
     "metadata": {},
     "output_type": "execute_result"
    }
   ],
   "source": [
    "d['city']"
   ]
  },
  {
   "cell_type": "code",
   "execution_count": 113,
   "id": "e1d0d5ec",
   "metadata": {},
   "outputs": [
    {
     "data": {
      "text/plain": [
       "'Calcutta'"
      ]
     },
     "execution_count": 113,
     "metadata": {},
     "output_type": "execute_result"
    }
   ],
   "source": [
    "d['city'][1] # indexing "
   ]
  },
  {
   "cell_type": "code",
   "execution_count": 127,
   "id": "0a290913",
   "metadata": {},
   "outputs": [],
   "source": [
    "d = {'k1':{'innerkey':[1,2,3]}} # nesting in dictionaries"
   ]
  },
  {
   "cell_type": "code",
   "execution_count": 132,
   "id": "cdf20033",
   "metadata": {},
   "outputs": [
    {
     "data": {
      "text/plain": [
       "[1, 2, 3]"
      ]
     },
     "execution_count": 132,
     "metadata": {},
     "output_type": "execute_result"
    }
   ],
   "source": [
    "d['k1']['innerkey']  # calling the inner key under one key"
   ]
  },
  {
   "cell_type": "code",
   "execution_count": 134,
   "id": "a83af3eb",
   "metadata": {},
   "outputs": [
    {
     "data": {
      "text/plain": [
       "3"
      ]
     },
     "execution_count": 134,
     "metadata": {},
     "output_type": "execute_result"
    }
   ],
   "source": [
    "d['k1']['innerkey'][2] # indexing of inner key under one key"
   ]
  },
  {
   "cell_type": "markdown",
   "id": "dc439399",
   "metadata": {},
   "source": [
    "Tuples (like lists but cannot be modified, are ordered, we cant reassign values)"
   ]
  },
  {
   "cell_type": "code",
   "execution_count": 139,
   "id": "3eba3045",
   "metadata": {},
   "outputs": [],
   "source": [
    "t = (1, 2, 3)"
   ]
  },
  {
   "cell_type": "code",
   "execution_count": 140,
   "id": "466d6e10",
   "metadata": {},
   "outputs": [
    {
     "data": {
      "text/plain": [
       "1"
      ]
     },
     "execution_count": 140,
     "metadata": {},
     "output_type": "execute_result"
    }
   ],
   "source": [
    "t[0]"
   ]
  },
  {
   "cell_type": "markdown",
   "id": "5ec8ba11",
   "metadata": {},
   "source": [
    "Sets (Collection of unique elements, almost like lists but it does not allow duplicate values)"
   ]
  },
  {
   "cell_type": "code",
   "execution_count": 143,
   "id": "c443a704",
   "metadata": {},
   "outputs": [
    {
     "data": {
      "text/plain": [
       "{1, 2, 3}"
      ]
     },
     "execution_count": 143,
     "metadata": {},
     "output_type": "execute_result"
    }
   ],
   "source": [
    "{1, 2, 3}"
   ]
  },
  {
   "cell_type": "code",
   "execution_count": 146,
   "id": "58301ddf",
   "metadata": {},
   "outputs": [
    {
     "data": {
      "text/plain": [
       "{1, 2, 3}"
      ]
     },
     "execution_count": 146,
     "metadata": {},
     "output_type": "execute_result"
    }
   ],
   "source": [
    "{1,1,1,1,1,1,1,1,1,1,1,1,1, 2,2,2,2,2,2,2,2, 3,3,3,3,3}  # it wont allow duplicates"
   ]
  },
  {
   "cell_type": "code",
   "execution_count": 148,
   "id": "b4ad009a",
   "metadata": {},
   "outputs": [
    {
     "data": {
      "text/plain": [
       "{1, 2, 3, 'Calcutta', 'California', 'Tokyo'}"
      ]
     },
     "execution_count": 148,
     "metadata": {},
     "output_type": "execute_result"
    }
   ],
   "source": [
    "set(['Tokyo','Calcutta', 'California', 'Tokyo', 1, 2, 3, 3, 1, 'California'])\n",
    "# set function will only return the unique elemnents"
   ]
  },
  {
   "cell_type": "code",
   "execution_count": 149,
   "id": "f031e11b",
   "metadata": {},
   "outputs": [],
   "source": [
    "s = {1, 2, 3}"
   ]
  },
  {
   "cell_type": "code",
   "execution_count": 150,
   "id": "ec1b91e2",
   "metadata": {},
   "outputs": [],
   "source": [
    "s.add(4) # adding elements to existing set"
   ]
  },
  {
   "cell_type": "code",
   "execution_count": 151,
   "id": "348dc6c5",
   "metadata": {},
   "outputs": [
    {
     "data": {
      "text/plain": [
       "{1, 2, 3, 4}"
      ]
     },
     "execution_count": 151,
     "metadata": {},
     "output_type": "execute_result"
    }
   ],
   "source": [
    "s"
   ]
  },
  {
   "cell_type": "markdown",
   "id": "35740392",
   "metadata": {},
   "source": [
    "Booleans"
   ]
  },
  {
   "cell_type": "code",
   "execution_count": 158,
   "id": "eb78024f",
   "metadata": {},
   "outputs": [
    {
     "data": {
      "text/plain": [
       "True"
      ]
     },
     "execution_count": 158,
     "metadata": {},
     "output_type": "execute_result"
    }
   ],
   "source": [
    "1 < 2"
   ]
  },
  {
   "cell_type": "code",
   "execution_count": 154,
   "id": "d1b40c2d",
   "metadata": {},
   "outputs": [
    {
     "data": {
      "text/plain": [
       "True"
      ]
     },
     "execution_count": 154,
     "metadata": {},
     "output_type": "execute_result"
    }
   ],
   "source": [
    "1 <= 1"
   ]
  },
  {
   "cell_type": "code",
   "execution_count": 155,
   "id": "334b1e75",
   "metadata": {},
   "outputs": [
    {
     "data": {
      "text/plain": [
       "True"
      ]
     },
     "execution_count": 155,
     "metadata": {},
     "output_type": "execute_result"
    }
   ],
   "source": [
    "1 == 1"
   ]
  },
  {
   "cell_type": "code",
   "execution_count": 156,
   "id": "b682988e",
   "metadata": {},
   "outputs": [
    {
     "data": {
      "text/plain": [
       "False"
      ]
     },
     "execution_count": 156,
     "metadata": {},
     "output_type": "execute_result"
    }
   ],
   "source": [
    "1 == 2"
   ]
  },
  {
   "cell_type": "code",
   "execution_count": 160,
   "id": "037d82e3",
   "metadata": {},
   "outputs": [
    {
     "data": {
      "text/plain": [
       "True"
      ]
     },
     "execution_count": 160,
     "metadata": {},
     "output_type": "execute_result"
    }
   ],
   "source": [
    "1 != 2  # 1 not equal to 2"
   ]
  },
  {
   "cell_type": "code",
   "execution_count": 164,
   "id": "bd1550ea",
   "metadata": {},
   "outputs": [
    {
     "data": {
      "text/plain": [
       "True"
      ]
     },
     "execution_count": 164,
     "metadata": {},
     "output_type": "execute_result"
    }
   ],
   "source": [
    "'hi' == 'hi'"
   ]
  },
  {
   "cell_type": "code",
   "execution_count": 165,
   "id": "0c8c54db",
   "metadata": {},
   "outputs": [
    {
     "data": {
      "text/plain": [
       "False"
      ]
     },
     "execution_count": 165,
     "metadata": {},
     "output_type": "execute_result"
    }
   ],
   "source": [
    "'hi' == 'bye'"
   ]
  },
  {
   "cell_type": "code",
   "execution_count": 166,
   "id": "d570d83f",
   "metadata": {},
   "outputs": [
    {
     "data": {
      "text/plain": [
       "True"
      ]
     },
     "execution_count": 166,
     "metadata": {},
     "output_type": "execute_result"
    }
   ],
   "source": [
    " 'hi' != 'bye'"
   ]
  },
  {
   "cell_type": "markdown",
   "id": "3431f7ec",
   "metadata": {},
   "source": [
    "## Python Logical Operators"
   ]
  },
  {
   "cell_type": "markdown",
   "id": "70547b05",
   "metadata": {},
   "source": [
    "AND"
   ]
  },
  {
   "cell_type": "code",
   "execution_count": 167,
   "id": "0b0ade0e",
   "metadata": {},
   "outputs": [
    {
     "data": {
      "text/plain": [
       "True"
      ]
     },
     "execution_count": 167,
     "metadata": {},
     "output_type": "execute_result"
    }
   ],
   "source": [
    "1 < 2 and 2 < 3   # True + True = True"
   ]
  },
  {
   "cell_type": "code",
   "execution_count": 169,
   "id": "42ba0e82",
   "metadata": {},
   "outputs": [
    {
     "data": {
      "text/plain": [
       "False"
      ]
     },
     "execution_count": 169,
     "metadata": {},
     "output_type": "execute_result"
    }
   ],
   "source": [
    "1 < 2 and 2 > 3  # True + False = False"
   ]
  },
  {
   "cell_type": "code",
   "execution_count": 171,
   "id": "248eba09",
   "metadata": {},
   "outputs": [
    {
     "data": {
      "text/plain": [
       "False"
      ]
     },
     "execution_count": 171,
     "metadata": {},
     "output_type": "execute_result"
    }
   ],
   "source": [
    "1 > 2 and 3 > 4  # False + False = False"
   ]
  },
  {
   "cell_type": "markdown",
   "id": "cb86f593",
   "metadata": {},
   "source": [
    "OR"
   ]
  },
  {
   "cell_type": "code",
   "execution_count": 172,
   "id": "eb884823",
   "metadata": {},
   "outputs": [
    {
     "data": {
      "text/plain": [
       "True"
      ]
     },
     "execution_count": 172,
     "metadata": {},
     "output_type": "execute_result"
    }
   ],
   "source": [
    "1 < 2 or 2 > 3 or 1 == 1   # one of these has to be true, or else it will be false"
   ]
  },
  {
   "cell_type": "code",
   "execution_count": 173,
   "id": "a05e9bb7",
   "metadata": {},
   "outputs": [
    {
     "data": {
      "text/plain": [
       "True"
      ]
     },
     "execution_count": 173,
     "metadata": {},
     "output_type": "execute_result"
    }
   ],
   "source": [
    "True or False"
   ]
  },
  {
   "cell_type": "code",
   "execution_count": 175,
   "id": "35070f73",
   "metadata": {},
   "outputs": [
    {
     "data": {
      "text/plain": [
       "False"
      ]
     },
     "execution_count": 175,
     "metadata": {},
     "output_type": "execute_result"
    }
   ],
   "source": [
    "True and False"
   ]
  },
  {
   "cell_type": "markdown",
   "id": "cf631aee",
   "metadata": {},
   "source": [
    "## Condition Statements"
   ]
  },
  {
   "cell_type": "markdown",
   "id": "8d1065d8",
   "metadata": {},
   "source": [
    "if "
   ]
  },
  {
   "cell_type": "code",
   "execution_count": 178,
   "id": "261f5045",
   "metadata": {},
   "outputs": [
    {
     "name": "stdout",
     "output_type": "stream",
     "text": [
      "yep!\n"
     ]
    }
   ],
   "source": [
    "if 1 < 2:\n",
    "    print('yep!')"
   ]
  },
  {
   "cell_type": "markdown",
   "id": "e5c50c81",
   "metadata": {},
   "source": [
    "if else"
   ]
  },
  {
   "cell_type": "code",
   "execution_count": 183,
   "id": "99d3e4f3",
   "metadata": {},
   "outputs": [
    {
     "name": "stdout",
     "output_type": "stream",
     "text": [
      "Yes\n"
     ]
    }
   ],
   "source": [
    "if 1 == 2:\n",
    "    print('No')\n",
    "else:\n",
    "    print('Yes')"
   ]
  },
  {
   "cell_type": "markdown",
   "id": "48a648f3",
   "metadata": {},
   "source": [
    "if elif else"
   ]
  },
  {
   "cell_type": "code",
   "execution_count": 186,
   "id": "21e0a2f3",
   "metadata": {},
   "outputs": [
    {
     "name": "stdout",
     "output_type": "stream",
     "text": [
      "Second\n"
     ]
    }
   ],
   "source": [
    "if 1 == 2:\n",
    "    print('First')\n",
    "elif 3 == 3:                                 # only the first True statement here in this case will get executed\n",
    "    print('Second')\n",
    "elif 4 == 4:\n",
    "    print('Third')\n",
    "else:\n",
    "    print('last')"
   ]
  },
  {
   "cell_type": "markdown",
   "id": "c2aa465e",
   "metadata": {},
   "source": [
    "# Loops"
   ]
  },
  {
   "cell_type": "markdown",
   "id": "f5025af2",
   "metadata": {},
   "source": [
    "for"
   ]
  },
  {
   "cell_type": "code",
   "execution_count": 187,
   "id": "d34ab496",
   "metadata": {},
   "outputs": [],
   "source": [
    "seq = [1, 2, 3, 4, 5]"
   ]
  },
  {
   "cell_type": "code",
   "execution_count": 191,
   "id": "fe97ff21",
   "metadata": {},
   "outputs": [
    {
     "name": "stdout",
     "output_type": "stream",
     "text": [
      "1\n",
      "2\n",
      "3\n",
      "4\n",
      "5\n"
     ]
    }
   ],
   "source": [
    "for ints in seq:\n",
    "    print(ints)"
   ]
  },
  {
   "cell_type": "markdown",
   "id": "52798bb9",
   "metadata": {},
   "source": [
    "while"
   ]
  },
  {
   "cell_type": "code",
   "execution_count": 1,
   "id": "9cdbebb7",
   "metadata": {},
   "outputs": [
    {
     "name": "stdout",
     "output_type": "stream",
     "text": [
      "i is: 1\n",
      "i is: 2\n",
      "i is: 3\n",
      "i is: 4\n"
     ]
    }
   ],
   "source": [
    "i = 1\n",
    "\n",
    "while i < 5:\n",
    "    print('i is: {}'.format(i))\n",
    "    i = i + 1"
   ]
  },
  {
   "cell_type": "markdown",
   "id": "7bca7c93",
   "metadata": {},
   "source": [
    "# Useful Python Functions"
   ]
  },
  {
   "cell_type": "markdown",
   "id": "289ccc90",
   "metadata": {},
   "source": [
    "Range Function"
   ]
  },
  {
   "cell_type": "code",
   "execution_count": 5,
   "id": "7219f1e3",
   "metadata": {},
   "outputs": [
    {
     "data": {
      "text/plain": [
       "range(0, 5)"
      ]
     },
     "execution_count": 5,
     "metadata": {},
     "output_type": "execute_result"
    }
   ],
   "source": [
    "range(0, 5)"
   ]
  },
  {
   "cell_type": "code",
   "execution_count": 15,
   "id": "eb12f200",
   "metadata": {},
   "outputs": [
    {
     "name": "stdout",
     "output_type": "stream",
     "text": [
      "0\n",
      "1\n",
      "2\n",
      "3\n",
      "4\n"
     ]
    }
   ],
   "source": [
    "for x in range(0, 5):  \n",
    "    print(x)"
   ]
  },
  {
   "cell_type": "markdown",
   "id": "1915c981",
   "metadata": {},
   "source": [
    "List Functions"
   ]
  },
  {
   "cell_type": "code",
   "execution_count": 16,
   "id": "9768d265",
   "metadata": {},
   "outputs": [
    {
     "data": {
      "text/plain": [
       "[0, 1, 2, 3, 4]"
      ]
     },
     "execution_count": 16,
     "metadata": {},
     "output_type": "execute_result"
    }
   ],
   "source": [
    "list(range(0, 5))  # converts anything into list"
   ]
  },
  {
   "cell_type": "code",
   "execution_count": 12,
   "id": "7f1f714c",
   "metadata": {},
   "outputs": [
    {
     "data": {
      "text/plain": [
       "[0, 1, 2, 3, 4, 5, 6, 7, 8, 9]"
      ]
     },
     "execution_count": 12,
     "metadata": {},
     "output_type": "execute_result"
    }
   ],
   "source": [
    "list(range(10))"
   ]
  },
  {
   "cell_type": "code",
   "execution_count": 18,
   "id": "e7b2173d",
   "metadata": {},
   "outputs": [],
   "source": [
    "x = [1, 2, 3, 4]"
   ]
  },
  {
   "cell_type": "code",
   "execution_count": 21,
   "id": "98229bda",
   "metadata": {},
   "outputs": [],
   "source": [
    "out = []                   \n",
    "\n",
    "for num in x:\n",
    "    out.append(num**2)"
   ]
  },
  {
   "cell_type": "code",
   "execution_count": 22,
   "id": "86a6c2cc",
   "metadata": {},
   "outputs": [
    {
     "name": "stdout",
     "output_type": "stream",
     "text": [
      "[1, 4, 9, 16]\n"
     ]
    }
   ],
   "source": [
    "print(out)"
   ]
  },
  {
   "cell_type": "code",
   "execution_count": 24,
   "id": "b7e9abe4",
   "metadata": {},
   "outputs": [],
   "source": [
    "out = [num**2 for num in x]   # list comprehension"
   ]
  },
  {
   "cell_type": "markdown",
   "id": "3438b646",
   "metadata": {},
   "source": [
    "# Defining Function in Python"
   ]
  },
  {
   "cell_type": "code",
   "execution_count": 25,
   "id": "90f12129",
   "metadata": {},
   "outputs": [],
   "source": [
    "def my_func(param):\n",
    "    print(param1)"
   ]
  },
  {
   "cell_type": "code",
   "execution_count": 27,
   "id": "deb7151a",
   "metadata": {},
   "outputs": [
    {
     "name": "stdout",
     "output_type": "stream",
     "text": [
      "hello\n"
     ]
    }
   ],
   "source": [
    "my_func('hello')"
   ]
  },
  {
   "cell_type": "code",
   "execution_count": 39,
   "id": "0deca470",
   "metadata": {},
   "outputs": [],
   "source": [
    "def name_func(name='u'): # we can assign value to our name here as well and make it our default value\n",
    "    print('Hello '+name)"
   ]
  },
  {
   "cell_type": "code",
   "execution_count": 44,
   "id": "e93cc5cd",
   "metadata": {},
   "outputs": [
    {
     "name": "stdout",
     "output_type": "stream",
     "text": [
      "Hello u\n"
     ]
    }
   ],
   "source": [
    "name_func()"
   ]
  },
  {
   "cell_type": "code",
   "execution_count": 38,
   "id": "54e1cd9c",
   "metadata": {},
   "outputs": [
    {
     "name": "stdout",
     "output_type": "stream",
     "text": [
      "Hello X\n"
     ]
    }
   ],
   "source": [
    "name_func(name='X')  # we can set another value to our function like this"
   ]
  },
  {
   "cell_type": "code",
   "execution_count": 51,
   "id": "8df0c557",
   "metadata": {},
   "outputs": [],
   "source": [
    "def square(num):\n",
    "    \"\"\"\n",
    "    THIS FUNCTION SQUARES A NUMBER\n",
    "    \n",
    "    \"\"\"\n",
    "    return num**2  # when we use return we have to set its value to some other variable"
   ]
  },
  {
   "cell_type": "code",
   "execution_count": 52,
   "id": "a73c4765",
   "metadata": {},
   "outputs": [],
   "source": [
    "output = square(2)"
   ]
  },
  {
   "cell_type": "code",
   "execution_count": 54,
   "id": "5a7ae5ec",
   "metadata": {},
   "outputs": [
    {
     "name": "stdout",
     "output_type": "stream",
     "text": [
      "4\n"
     ]
    }
   ],
   "source": [
    "print(output)"
   ]
  },
  {
   "cell_type": "markdown",
   "id": "ee84a930",
   "metadata": {},
   "source": [
    "## Map and Filter Functions"
   ]
  },
  {
   "cell_type": "code",
   "execution_count": 55,
   "id": "2ad8cc75",
   "metadata": {},
   "outputs": [],
   "source": [
    "def times2(var):\n",
    "    return var * 2"
   ]
  },
  {
   "cell_type": "code",
   "execution_count": 56,
   "id": "a529d2d2",
   "metadata": {},
   "outputs": [
    {
     "data": {
      "text/plain": [
       "10"
      ]
     },
     "execution_count": 56,
     "metadata": {},
     "output_type": "execute_result"
    }
   ],
   "source": [
    "times2(5)"
   ]
  },
  {
   "cell_type": "markdown",
   "id": "57ee9389",
   "metadata": {},
   "source": [
    "map()"
   ]
  },
  {
   "cell_type": "code",
   "execution_count": 57,
   "id": "1890449e",
   "metadata": {},
   "outputs": [],
   "source": [
    "seq = [1,2,3,4,5]"
   ]
  },
  {
   "cell_type": "code",
   "execution_count": 59,
   "id": "fd6325f1",
   "metadata": {},
   "outputs": [
    {
     "data": {
      "text/plain": [
       "<map at 0x17b075f4df0>"
      ]
     },
     "execution_count": 59,
     "metadata": {},
     "output_type": "execute_result"
    }
   ],
   "source": [
    "map(times2, seq) # map is stored in memory '0x17b075f4df0'\n",
    "# map(name_of_function, with_what_we_will_perform_the_function_on)"
   ]
  },
  {
   "cell_type": "code",
   "execution_count": 60,
   "id": "64ffddc4",
   "metadata": {},
   "outputs": [
    {
     "data": {
      "text/plain": [
       "[2, 4, 6, 8, 10]"
      ]
     },
     "execution_count": 60,
     "metadata": {},
     "output_type": "execute_result"
    }
   ],
   "source": [
    "## use it within built-in list function\n",
    "list(map(times2, seq))"
   ]
  },
  {
   "cell_type": "markdown",
   "id": "538f5165",
   "metadata": {},
   "source": [
    "Lambda Expressions "
   ]
  },
  {
   "cell_type": "code",
   "execution_count": 77,
   "id": "da2a797a",
   "metadata": {},
   "outputs": [],
   "source": [
    "# def times2(var):\n",
    "#     return var * 2 \n",
    "# can be written like this:"
   ]
  },
  {
   "cell_type": "code",
   "execution_count": 78,
   "id": "e668bcdb",
   "metadata": {},
   "outputs": [],
   "source": [
    "def times2(var):return var*2"
   ]
  },
  {
   "cell_type": "code",
   "execution_count": 79,
   "id": "3a1a122c",
   "metadata": {},
   "outputs": [],
   "source": [
    "# or can be written as a lambda expression like:"
   ]
  },
  {
   "cell_type": "code",
   "execution_count": 82,
   "id": "7b4b68be",
   "metadata": {},
   "outputs": [
    {
     "data": {
      "text/plain": [
       "<function __main__.<lambda>(var)>"
      ]
     },
     "execution_count": 82,
     "metadata": {},
     "output_type": "execute_result"
    }
   ],
   "source": [
    "lambda var:var*2"
   ]
  },
  {
   "cell_type": "code",
   "execution_count": 84,
   "id": "b07152dc",
   "metadata": {},
   "outputs": [],
   "source": [
    "t = lambda var : var*2"
   ]
  },
  {
   "cell_type": "code",
   "execution_count": 85,
   "id": "da19dfaf",
   "metadata": {},
   "outputs": [
    {
     "data": {
      "text/plain": [
       "12"
      ]
     },
     "execution_count": 85,
     "metadata": {},
     "output_type": "execute_result"
    }
   ],
   "source": [
    "t(6) # we can still use times2 function without even defining it"
   ]
  },
  {
   "cell_type": "code",
   "execution_count": 86,
   "id": "0d7ff443",
   "metadata": {},
   "outputs": [
    {
     "data": {
      "text/plain": [
       "[3, 6, 9, 12, 15]"
      ]
     },
     "execution_count": 86,
     "metadata": {},
     "output_type": "execute_result"
    }
   ],
   "source": [
    "list(map(lambda num: num*3, seq))  # same seq using map and lambda expression to get now multiples of 3"
   ]
  },
  {
   "cell_type": "markdown",
   "id": "ea40689f",
   "metadata": {},
   "source": [
    "filter()"
   ]
  },
  {
   "cell_type": "code",
   "execution_count": 87,
   "id": "04a03946",
   "metadata": {},
   "outputs": [
    {
     "data": {
      "text/plain": [
       "[2, 4]"
      ]
     },
     "execution_count": 87,
     "metadata": {},
     "output_type": "execute_result"
    }
   ],
   "source": [
    "list(filter(lambda num: num%2 == 0,seq))   # filtered out the list and gave only the even numbers as output"
   ]
  },
  {
   "cell_type": "markdown",
   "id": "c6d09a6f",
   "metadata": {},
   "source": [
    "Some String Functions"
   ]
  },
  {
   "cell_type": "code",
   "execution_count": 98,
   "id": "af92279f",
   "metadata": {},
   "outputs": [],
   "source": [
    "s = 'Hello my name is Sujita'"
   ]
  },
  {
   "cell_type": "code",
   "execution_count": 99,
   "id": "af75aab6",
   "metadata": {},
   "outputs": [
    {
     "data": {
      "text/plain": [
       "'hello my name is sujita'"
      ]
     },
     "execution_count": 99,
     "metadata": {},
     "output_type": "execute_result"
    }
   ],
   "source": [
    "s.lower()"
   ]
  },
  {
   "cell_type": "code",
   "execution_count": 100,
   "id": "f74fe6ff",
   "metadata": {},
   "outputs": [
    {
     "data": {
      "text/plain": [
       "'HELLO MY NAME IS SUJITA'"
      ]
     },
     "execution_count": 100,
     "metadata": {},
     "output_type": "execute_result"
    }
   ],
   "source": [
    "s.upper()"
   ]
  },
  {
   "cell_type": "code",
   "execution_count": 101,
   "id": "ad33fc57",
   "metadata": {},
   "outputs": [
    {
     "data": {
      "text/plain": [
       "['Hello', 'my', 'name', 'is', 'Sujita']"
      ]
     },
     "execution_count": 101,
     "metadata": {},
     "output_type": "execute_result"
    }
   ],
   "source": [
    "s.split() # split on the basis of white space"
   ]
  },
  {
   "cell_type": "code",
   "execution_count": 102,
   "id": "5c1f19f4",
   "metadata": {},
   "outputs": [],
   "source": [
    "tweet = 'Go sports! #Sports'"
   ]
  },
  {
   "cell_type": "code",
   "execution_count": 107,
   "id": "7b313acd",
   "metadata": {},
   "outputs": [
    {
     "data": {
      "text/plain": [
       "['Go sports! ', 'Sports']"
      ]
     },
     "execution_count": 107,
     "metadata": {},
     "output_type": "execute_result"
    }
   ],
   "source": [
    "tweet.split('#')  # this will split the string where it will find hashtag"
   ]
  },
  {
   "cell_type": "code",
   "execution_count": 108,
   "id": "6b51658a",
   "metadata": {},
   "outputs": [
    {
     "data": {
      "text/plain": [
       "'Sports'"
      ]
     },
     "execution_count": 108,
     "metadata": {},
     "output_type": "execute_result"
    }
   ],
   "source": [
    "tweet.split('#')[1]  # indexing "
   ]
  },
  {
   "cell_type": "markdown",
   "id": "3b650947",
   "metadata": {},
   "source": [
    "Dictionary Functions"
   ]
  },
  {
   "cell_type": "code",
   "execution_count": 112,
   "id": "0c0274f7",
   "metadata": {},
   "outputs": [],
   "source": [
    "d = {'k1': 1, 'k2': 2}"
   ]
  },
  {
   "cell_type": "code",
   "execution_count": 113,
   "id": "b0e473a3",
   "metadata": {},
   "outputs": [
    {
     "data": {
      "text/plain": [
       "dict_keys(['k1', 'k2'])"
      ]
     },
     "execution_count": 113,
     "metadata": {},
     "output_type": "execute_result"
    }
   ],
   "source": [
    "d.keys()  # this will return the keys of the dictionary"
   ]
  },
  {
   "cell_type": "code",
   "execution_count": 114,
   "id": "0d0be891",
   "metadata": {},
   "outputs": [
    {
     "data": {
      "text/plain": [
       "dict_items([('k1', 1), ('k2', 2)])"
      ]
     },
     "execution_count": 114,
     "metadata": {},
     "output_type": "execute_result"
    }
   ],
   "source": [
    "d.items()"
   ]
  },
  {
   "cell_type": "code",
   "execution_count": 115,
   "id": "b01a6c91",
   "metadata": {},
   "outputs": [
    {
     "data": {
      "text/plain": [
       "dict_values([1, 2])"
      ]
     },
     "execution_count": 115,
     "metadata": {},
     "output_type": "execute_result"
    }
   ],
   "source": [
    "d.values()"
   ]
  },
  {
   "cell_type": "markdown",
   "id": "206d3b77",
   "metadata": {},
   "source": [
    "List functions"
   ]
  },
  {
   "cell_type": "code",
   "execution_count": 116,
   "id": "277fdf19",
   "metadata": {},
   "outputs": [],
   "source": [
    "lst = [1, 2, 3]"
   ]
  },
  {
   "cell_type": "code",
   "execution_count": 118,
   "id": "3222d1ea",
   "metadata": {},
   "outputs": [
    {
     "data": {
      "text/plain": [
       "3"
      ]
     },
     "execution_count": 118,
     "metadata": {},
     "output_type": "execute_result"
    }
   ],
   "source": [
    "lst.pop() # this will remove the last element from a list by default"
   ]
  },
  {
   "cell_type": "code",
   "execution_count": 120,
   "id": "48a7f8a1",
   "metadata": {},
   "outputs": [
    {
     "data": {
      "text/plain": [
       "[1, 2]"
      ]
     },
     "execution_count": 120,
     "metadata": {},
     "output_type": "execute_result"
    }
   ],
   "source": [
    "lst"
   ]
  },
  {
   "cell_type": "code",
   "execution_count": 121,
   "id": "d7c3942f",
   "metadata": {},
   "outputs": [],
   "source": [
    "lst = [1, 2, 3, 4, 5]"
   ]
  },
  {
   "cell_type": "code",
   "execution_count": 122,
   "id": "0dc8a2e1",
   "metadata": {},
   "outputs": [],
   "source": [
    "item = lst.pop() # we can assign the removed value to any variable"
   ]
  },
  {
   "cell_type": "code",
   "execution_count": 123,
   "id": "9a1eb322",
   "metadata": {},
   "outputs": [
    {
     "data": {
      "text/plain": [
       "[1, 2, 3, 4]"
      ]
     },
     "execution_count": 123,
     "metadata": {},
     "output_type": "execute_result"
    }
   ],
   "source": [
    "lst"
   ]
  },
  {
   "cell_type": "code",
   "execution_count": 124,
   "id": "2a2008d1",
   "metadata": {},
   "outputs": [
    {
     "data": {
      "text/plain": [
       "5"
      ]
     },
     "execution_count": 124,
     "metadata": {},
     "output_type": "execute_result"
    }
   ],
   "source": [
    "item"
   ]
  },
  {
   "cell_type": "code",
   "execution_count": 125,
   "id": "d23b4e52",
   "metadata": {},
   "outputs": [],
   "source": [
    "first = lst.pop(0) # we can also remove any element from the list by its index and assign it to any variable"
   ]
  },
  {
   "cell_type": "code",
   "execution_count": 126,
   "id": "6555f1b6",
   "metadata": {},
   "outputs": [
    {
     "data": {
      "text/plain": [
       "[2, 3, 4]"
      ]
     },
     "execution_count": 126,
     "metadata": {},
     "output_type": "execute_result"
    }
   ],
   "source": [
    "lst"
   ]
  },
  {
   "cell_type": "code",
   "execution_count": 127,
   "id": "dfffacf0",
   "metadata": {},
   "outputs": [
    {
     "data": {
      "text/plain": [
       "1"
      ]
     },
     "execution_count": 127,
     "metadata": {},
     "output_type": "execute_result"
    }
   ],
   "source": [
    "first"
   ]
  },
  {
   "cell_type": "markdown",
   "id": "0bc66e91",
   "metadata": {},
   "source": [
    "# In Operator (Returns Boolean)"
   ]
  },
  {
   "cell_type": "code",
   "execution_count": 129,
   "id": "d1fe4ca1",
   "metadata": {},
   "outputs": [
    {
     "data": {
      "text/plain": [
       "False"
      ]
     },
     "execution_count": 129,
     "metadata": {},
     "output_type": "execute_result"
    }
   ],
   "source": [
    "'x' in [1, 2, 3]"
   ]
  },
  {
   "cell_type": "code",
   "execution_count": 130,
   "id": "c95c189c",
   "metadata": {},
   "outputs": [
    {
     "data": {
      "text/plain": [
       "True"
      ]
     },
     "execution_count": 130,
     "metadata": {},
     "output_type": "execute_result"
    }
   ],
   "source": [
    "'x' in ['x', 1, 2, 3]"
   ]
  },
  {
   "cell_type": "markdown",
   "id": "fd94a0fe",
   "metadata": {},
   "source": [
    "# Tuple Unpacking"
   ]
  },
  {
   "cell_type": "code",
   "execution_count": 131,
   "id": "72ee7ed4",
   "metadata": {},
   "outputs": [],
   "source": [
    "x = [(1, 2),(3, 4), (5, 6)]    # a list of tuples"
   ]
  },
  {
   "cell_type": "code",
   "execution_count": 132,
   "id": "10000a86",
   "metadata": {},
   "outputs": [
    {
     "data": {
      "text/plain": [
       "(1, 2)"
      ]
     },
     "execution_count": 132,
     "metadata": {},
     "output_type": "execute_result"
    }
   ],
   "source": [
    "x[0] # indexing"
   ]
  },
  {
   "cell_type": "code",
   "execution_count": 133,
   "id": "f3062791",
   "metadata": {},
   "outputs": [
    {
     "data": {
      "text/plain": [
       "1"
      ]
     },
     "execution_count": 133,
     "metadata": {},
     "output_type": "execute_result"
    }
   ],
   "source": [
    "x[0][0] # further indexing"
   ]
  },
  {
   "cell_type": "code",
   "execution_count": 134,
   "id": "472a3b91",
   "metadata": {},
   "outputs": [
    {
     "name": "stdout",
     "output_type": "stream",
     "text": [
      "(1, 2)\n",
      "(3, 4)\n",
      "(5, 6)\n"
     ]
    }
   ],
   "source": [
    "for items in x:           \n",
    "    print (items)"
   ]
  },
  {
   "cell_type": "code",
   "execution_count": 136,
   "id": "6a9afc75",
   "metadata": {},
   "outputs": [
    {
     "name": "stdout",
     "output_type": "stream",
     "text": [
      "1\n",
      "2\n",
      "3\n",
      "4\n",
      "5\n",
      "6\n"
     ]
    }
   ],
   "source": [
    "for a,b in x:           # tuple unpacking\n",
    "    print(a)\n",
    "    print(b)"
   ]
  },
  {
   "cell_type": "code",
   "execution_count": null,
   "id": "c4d2713b",
   "metadata": {},
   "outputs": [],
   "source": []
  }
 ],
 "metadata": {
  "kernelspec": {
   "display_name": "Python 3.10.5 64-bit",
   "language": "python",
   "name": "python3"
  },
  "language_info": {
   "codemirror_mode": {
    "name": "ipython",
    "version": 3
   },
   "file_extension": ".py",
   "mimetype": "text/x-python",
   "name": "python",
   "nbconvert_exporter": "python",
   "pygments_lexer": "ipython3",
   "version": "3.10.5"
  },
  "vscode": {
   "interpreter": {
    "hash": "7efc10aa69ebf18a1185a43c35e7c491dafa5e3a46474025d86a4c21af07a590"
   }
  }
 },
 "nbformat": 4,
 "nbformat_minor": 5
}
